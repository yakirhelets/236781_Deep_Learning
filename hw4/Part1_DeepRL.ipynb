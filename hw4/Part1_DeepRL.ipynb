{
 "cells": [
  {
   "cell_type": "markdown",
   "metadata": {},
   "source": [
    "$$\n",
    "\\newcommand{\\mat}[1]{\\boldsymbol {#1}}\n",
    "\\newcommand{\\mattr}[1]{\\boldsymbol {#1}^\\top}\n",
    "\\newcommand{\\matinv}[1]{\\boldsymbol {#1}^{-1}}\n",
    "\\newcommand{\\vec}[1]{\\boldsymbol {#1}}\n",
    "\\newcommand{\\vectr}[1]{\\boldsymbol {#1}^\\top}\n",
    "\\newcommand{\\rvar}[1]{\\mathrm {#1}}\n",
    "\\newcommand{\\rvec}[1]{\\boldsymbol{\\mathrm{#1}}}\n",
    "\\newcommand{\\diag}{\\mathop{\\mathrm {diag}}}\n",
    "\\newcommand{\\set}[1]{\\mathbb {#1}}\n",
    "\\newcommand{\\cset}[1]{\\mathcal{#1}}\n",
    "\\newcommand{\\norm}[1]{\\left\\lVert#1\\right\\rVert}\n",
    "\\newcommand{\\pderiv}[2]{\\frac{\\partial #1}{\\partial #2}}\n",
    "\\newcommand{\\bb}[1]{\\boldsymbol{#1}}\n",
    "\\newcommand{\\E}[2][]{\\mathbb{E}_{#1}\\left[#2\\right]}\n",
    "\\newcommand{\\ip}[3]{\\left<#1,#2\\right>_{#3}}\n",
    "\\newcommand{\\given}[]{\\,\\middle\\vert\\,}\n",
    "\\newcommand{\\DKL}[2]{\\cset{D}_{\\text{KL}}\\left(#1\\,\\Vert\\, #2\\right)}\n",
    "\\newcommand{\\grad}[]{\\nabla}\n",
    "$$\n",
    "# Part 1: Deep Reinforcement Learning\n",
    "<a id=part1></a>"
   ]
  },
  {
   "cell_type": "markdown",
   "metadata": {},
   "source": [
    "In the tutorial we have seen value-based reinforcement learning, in which we learn to approximate the action-value function $q(s,a)$.\n",
    "\n",
    "In this exercise we'll explore a different approach, directly learning the agent's policy distribution, $\\pi(a|s)$\n",
    "by using *policy gradients*, in order to safely land on the moon!"
   ]
  },
  {
   "cell_type": "code",
   "execution_count": 1,
   "metadata": {},
   "outputs": [],
   "source": [
    "%load_ext autoreload\n",
    "%autoreload 2\n",
    "%matplotlib inline\n",
    "\n",
    "import unittest\n",
    "import os\n",
    "import sys\n",
    "import pathlib\n",
    "import urllib\n",
    "import shutil\n",
    "import re\n",
    "\n",
    "import numpy as np\n",
    "import torch\n",
    "import torch.nn as nn\n",
    "import torch.optim as optim\n",
    "import matplotlib.pyplot as plt"
   ]
  },
  {
   "cell_type": "code",
   "execution_count": 2,
   "metadata": {},
   "outputs": [
    {
     "name": "stdout",
     "output_type": "stream",
     "text": [
      "Using device: cpu\n"
     ]
    }
   ],
   "source": [
    "test = unittest.TestCase()\n",
    "plt.rcParams.update({'font.size': 12})\n",
    "device = torch.device('cuda' if torch.cuda.is_available() else 'cpu')\n",
    "\n",
    "# Prefer CPU, GPU won't help much in this assignment\n",
    "device = 'cpu'\n",
    "print('Using device:', device)\n",
    "\n",
    "# Seed for deterministic tests\n",
    "SEED = 42"
   ]
  },
  {
   "cell_type": "markdown",
   "metadata": {},
   "source": [
    "Some technical notes before we begin:\n",
    "\n",
    "- This part does not require a GPU. We won't need large models, and the computation bottleneck will be the generation of episodes to train on.\n",
    "- In order to run this notebook on the server, you must prepend the `xvfb-run` command to create a virtual screen. For example,\n",
    "    - to run the jupyter lab script with `srun` do\n",
    "        ```\n",
    "        srun -c2 --gres=gpu:1 xvfb-run -a -s \"-screen 0 1440x900x24\" ./jupyter-lab.sh\n",
    "        ```\n",
    "    - To run the submission script, do\n",
    "        ```\n",
    "        srun -c2 xvfb-run -a -s \"-screen 0 1440x900x24\" python main.py prepare-submission ...\n",
    "        ```\n",
    "    and so on.\n",
    "- The OpenAI `gym` library is not officially supported on windows. However it should be possible to install and run the necessary environment for this exercise. However, we cannot provide you with technical support for this. If you have trouble installing locally, we suggest running on the course server."
   ]
  },
  {
   "cell_type": "markdown",
   "metadata": {},
   "source": [
    "## Policy gradients\n",
    "<a id=part1_1></a>"
   ]
  },
  {
   "cell_type": "markdown",
   "metadata": {},
   "source": [
    "Recall from the tutorial that we define the **policy** of an agent as the conditional distribution,\n",
    "$$\n",
    "\\pi(a|s) = \\Pr(a_t=a\\vert s_t=s),\n",
    "$$\n",
    "which defines how likely the agent is to take action $a$ at state $s$.\n",
    "\n",
    "Furthermore we define the action-value function,\n",
    "$$\n",
    "q_{\\pi}(s,a) = \\E{g_t(\\tau)|s_t = s,a_t=a,\\pi}\n",
    "$$\n",
    "where \n",
    "$$\n",
    "g_t(\\tau) = r_{t+1}+\\gamma r_{t+2} + \\dots = \\sum_{k=0}^{\\infty} \\gamma^k r_{t+1+k},\n",
    "$$\n",
    "is the total discounted reward of a specific trajectory $\\tau$ from time $t$, and the expectation in $q$ is over all possible\n",
    "trajectories,\n",
    "$\n",
    "\\tau=\\left\\{ (s_0,a_0,r_1,s_1), \\dots (s_T,a_T,r_{T+1},s_{T+1}) \\right\\}.\n",
    "$"
   ]
  },
  {
   "cell_type": "markdown",
   "metadata": {},
   "source": [
    "In the tutorial we saw that we can learn a value function starting with some random function and\n",
    "updating it iteratively by using the **Bellman optimality equation**.\n",
    "Given that we have some action-value function, we can immediately create a policy based on that\n",
    "by simply selecting an action which maximize the action-value at the current state, i.e.\n",
    "$$\n",
    "\\pi(a|s) =\n",
    "\\begin{cases}\n",
    "1, & a = \\arg\\max_{a'\\in\\cset{A}} q(s,a') \\\\\n",
    "0, & \\text{else}\n",
    "\\end{cases}.\n",
    "$$\n",
    "This is called $q$-learning. This approach aims to obtain a policy indirectly through the action-value function.\n",
    "Yet, in most cases we don't actually care about knowing the value of particular states,\n",
    "since all we need is a good policy for our agent. \n",
    "\n",
    "Here we'll take a different approach and learn a policy distribution $\\pi(a|s)$ directly - by using **policy gradients**."
   ]
  },
  {
   "cell_type": "markdown",
   "metadata": {},
   "source": [
    "### Formalism"
   ]
  },
  {
   "cell_type": "markdown",
   "metadata": {},
   "source": [
    "We define a parametric policy, $\\pi_\\vec{\\theta}(a|s)$, and maximize total discounted reward (or minimize the negative reward):\n",
    "$$\n",
    "\\mathcal{L}(\\vec{\\theta})=\\E[\\tau]{-g(\\tau)|\\pi_\\vec{\\theta}} = -\\int g(\\tau)p(\\tau|\\vec{\\theta})d\\tau,\n",
    "$$\n",
    "where $p(\\tau|\\vec{\\theta})$ is the probability of a specific trajectory $\\tau$ under the policy defined by $\\vec{\\theta}$.\n"
   ]
  },
  {
   "cell_type": "markdown",
   "metadata": {},
   "source": [
    "Since we want to find the parameters $\\vec{\\theta}$ which minimize $\\mathcal{L}(\\vec{\\theta})$, we'll compute the gradient w.r.t. $\\vec{\\theta}$:\n",
    "$$\n",
    "\\grad\\mathcal{L}(\\vec{\\theta}) = -\\int g(\\tau)\\grad p(\\tau|\\vec{\\theta})d\\tau.\n",
    "$$\n",
    "\n",
    "Unfortunately, if we try to write $p(\\tau|\\vec{\\theta})$ explicitly,\n",
    "we find that computing it's gradient with respect to $\\vec{\\theta}$ is\n",
    "quite intractable due to a huge product of terms depending on $\\vec{\\theta}$:\n",
    "$$\n",
    "p(\\tau|\\vec{\\theta})=p\\left(\\left\\{ (s_t,a_t,r_{t+1},s_{t+1})\\right\\}_{t\\geq0}\\given\\vec{\\theta}\\right)\n",
    "=p(s_0)\\prod_{t\\geq0} \\pi_{\\vec{\\theta}}(a_t|s_t)p(s_{t+1}|s_t,a_t).\n",
    "$$"
   ]
  },
  {
   "cell_type": "markdown",
   "metadata": {},
   "source": [
    "However, by using the fact that $\\grad_{x}\\log(f(x))=\\frac{\\grad_{x}f(x)}{f(x)}$, we can convert the product into a sum:\n",
    "$$\n",
    "\\begin{align}\n",
    "\\grad\\mathcal{L}(\\vec{\\theta})\n",
    "&= -\\int g(\\tau)\\grad p(\\tau|\\vec{\\theta})d\\tau\n",
    "= -\\int g(\\tau)\\frac{\\grad p(\\tau|\\vec{\\theta})}{p(\\tau|\\vec{\\theta})}p(\\tau|\\vec{\\theta})d\\tau \\\\\n",
    "&= -\\int g(\\tau)\\grad\\log\\left(p(\\tau|\\vec{\\theta})\\right)p(\\tau|\\vec{\\theta})d\\tau \\\\\n",
    "&= -\\int g(\\tau)\\grad\\log\\left( p(s_0)\\prod_{t\\geq0} \\pi_{\\vec{\\theta}}(a_t|s_t)p(s_{t+1}|s_t,a_t) \\right)\n",
    "p(\\tau|\\vec{\\theta})d\\tau \\\\\n",
    "&= -\\int g(\\tau)\\grad\\left( \\log p(s_0) + \\sum_{t\\geq0} \\log \\pi_{\\vec{\\theta}}(a_t|s_t) + \n",
    "\\sum_{t\\geq0}\\log p(s_{t+1}|s_t,a_t) \\right) p(\\tau|\\vec{\\theta})d\\tau \\\\\n",
    "&= -\\int g(\\tau)\\sum_{t\\geq0} \\grad\\log \\pi_{\\vec{\\theta}}(a_t|s_t) p(\\tau|\\vec{\\theta})d\\tau \\\\\n",
    "&= \\E[\\tau]{-g(\\tau)\\sum_{t\\geq0} \\grad\\log \\pi_{\\vec{\\theta}}(a_t|s_t)}.\n",
    "\\end{align}\n",
    "$$"
   ]
  },
  {
   "cell_type": "markdown",
   "metadata": {},
   "source": [
    "This is the \"vanilla\" version of the policy gradient. We can interpret is as a weighted log-likelihood function.\n",
    "The log-policy is the log-likelihood term we wish to maximize and the total discounted reward acts as a weight: high-return positive\n",
    "trajectories will cause the probability of actions taken during them to increase, and negative-return trajectories will cause the\n",
    "probabilities of actions taken to decrease.\n",
    "\n",
    "In the following figures we see three trajectories: high-return positive-reward (green), low-return positive-reward (yellow) and negative-return (red) and the action probabilities along the trajectories after the update. Credit: Sergey Levine.\n",
    "\n",
    "|<strong></strong>||\n",
    "|-----| ----|\n",
    "|<img src=\"imgs/pg1.png\" height=\"200\">|<img src=\"imgs/pg2.png\" height=\"200\">|\n"
   ]
  },
  {
   "cell_type": "markdown",
   "metadata": {},
   "source": [
    "The major drawback of the policy-gradient is it's high variance, which causes erratic optimization behavior and therefore slow convergence.\n",
    "One reason for this is that the log-policy weight term, $g(\\tau)$ can vary wildly between different trajectories, even if they're similar in\n",
    "actions. Later on we'll implement the loss and explore some methods of variance reduction."
   ]
  },
  {
   "cell_type": "markdown",
   "metadata": {},
   "source": [
    "### Landing on the moon with policy gradients"
   ]
  },
  {
   "cell_type": "markdown",
   "metadata": {},
   "source": [
    "In the spirit of the recent achievements of the Israeli space industry,\n",
    "we'll apply our reinforcement learning skills to solve a simple game called **LunarLander**.\n",
    "\n",
    "This game is available as an `environment` in OpenAI `gym`.\n",
    "\n",
    "<video loop autoplay src=\"http://gym.openai.com/videos/2019-04-06--My9IiAbqha/LunarLander-v2/original.mp4\" />"
   ]
  },
  {
   "cell_type": "markdown",
   "metadata": {},
   "source": [
    "In this environment, you need to control the lander and get it to land safely on the moon.\n",
    "To do so, you must apply bottom, right or left thrusters (each are either fully on or fully off)\n",
    "and get it to land within the designated zone as quickly as possible and with minimal wasted fuel."
   ]
  },
  {
   "cell_type": "code",
   "execution_count": 3,
   "metadata": {},
   "outputs": [],
   "source": [
    "import gym\n",
    "\n",
    "# Just for fun :) ... but also to re-define the default max number of steps\n",
    "ENV_NAME = 'Beresheet-v2'\n",
    "MAX_EPISODE_STEPS = 300\n",
    "if ENV_NAME not in gym.envs.registry.env_specs:\n",
    "    gym.register(\n",
    "        id=ENV_NAME,\n",
    "        entry_point='gym.envs.box2d:LunarLander',\n",
    "        max_episode_steps=MAX_EPISODE_STEPS,\n",
    "        reward_threshold=200,\n",
    "    )"
   ]
  },
  {
   "cell_type": "code",
   "execution_count": 4,
   "metadata": {},
   "outputs": [
    {
     "name": "stdout",
     "output_type": "stream",
     "text": [
      "<TimeLimit<LunarLander<Beresheet-v2>>>\n",
      "observations space: Box(8,)\n",
      "action space: Discrete(4)\n"
     ]
    }
   ],
   "source": [
    "import gym\n",
    "\n",
    "env = gym.make(ENV_NAME)\n",
    "\n",
    "print(env)\n",
    "print(f'observations space: {env.observation_space}')\n",
    "print(f'action space: {env.action_space}')\n",
    "\n",
    "ENV_N_ACTIONS = env.action_space.n\n",
    "ENV_N_OBSERVATIONS = env.observation_space.shape[0]"
   ]
  },
  {
   "cell_type": "markdown",
   "metadata": {},
   "source": [
    "The observations at each step is the Lander's position, velocity, angle, angular velocity and ground contact state.\n",
    "The actions are no-op, fire left truster, bottom thruster and right thruster.\n",
    "\n",
    "You are **highly encouraged** to read the [documentation](https://github.com/openai/gym/blob/master/gym/envs/box2d/lunar_lander.py) in the source code of the `LunarLander` environment to understand the reward system,\n",
    "and see how the actions and observations are created."
   ]
  },
  {
   "cell_type": "markdown",
   "metadata": {},
   "source": [
    "### Policy network and Agent"
   ]
  },
  {
   "cell_type": "markdown",
   "metadata": {},
   "source": [
    "Let's start with our policy-model. This will be a simple neural net, which should take an observation and return a score for each possible action."
   ]
  },
  {
   "cell_type": "markdown",
   "metadata": {},
   "source": [
    "**TODO**:\n",
    "1. Implement all methods in the `PolicyNet` class in the `hw4/rl_pg.py` module.\n",
    "   Start small. A simple MLP with a few hidden layers is a good starting point. You can come back and change it later based on the the experiments. The we'll use the `build_for_env` method to instantiate a `PolicyNet` based on the configuration of a given environment.\n",
    "2. If you need hyperparameters to configure your model (e.g. number of hidden layers, sizes, etc.), add them in `part1_pg_hyperparams()` in `hw4/answers.py`."
   ]
  },
  {
   "cell_type": "code",
   "execution_count": 5,
   "metadata": {},
   "outputs": [
    {
     "data": {
      "text/plain": [
       "PolicyNet(\n",
       "  (pn): Sequential(\n",
       "    (0): Linear(in_features=8, out_features=32, bias=True)\n",
       "    (1): ReLU()\n",
       "    (2): Linear(in_features=32, out_features=64, bias=True)\n",
       "    (3): ReLU()\n",
       "    (4): Linear(in_features=64, out_features=4, bias=True)\n",
       "    (5): Softmax(dim=None)\n",
       "  )\n",
       ")"
      ]
     },
     "execution_count": 5,
     "metadata": {},
     "output_type": "execute_result"
    }
   ],
   "source": [
    "import hw4.rl_pg as hw4pg\n",
    "import hw4.answers\n",
    "\n",
    "hp = hw4.answers.part1_pg_hyperparams()\n",
    "\n",
    "# You can add keyword-args to this function which will be populated from the hyperparameters dict.\n",
    "p_net = hw4pg.PolicyNet.build_for_env(env, device, **hp)\n",
    "p_net"
   ]
  },
  {
   "cell_type": "markdown",
   "metadata": {},
   "source": [
    "Now we need an **agent**. The purpose of our agent will be to act according to the current policy and generate experiences.\n",
    "Our `PolicyAgent` will use a `PolicyNet` as the current policy function.\n",
    "\n",
    "\n",
    "We'll also define some extra datatypes to help us represent the data generated by our agent.\n",
    "You can find the `Experience`, `Episode` and `TrainBatch` datatypes in the `hw4/rl_pg.py` module."
   ]
  },
  {
   "cell_type": "markdown",
   "metadata": {},
   "source": [
    "**TODO**: Implement the `current_action_distribution()` method of the `PolicyAgent` class in the `hw4/rl_pg.py` module."
   ]
  },
  {
   "cell_type": "code",
   "execution_count": 6,
   "metadata": {},
   "outputs": [
    {
     "name": "stdout",
     "output_type": "stream",
     "text": [
      "tensor([0.2391, 0.2669, 0.2440, 0.2500], grad_fn=<SoftmaxBackward>)\n"
     ]
    },
    {
     "name": "stderr",
     "output_type": "stream",
     "text": [
      "/Users/GalFleissig/anaconda3/envs/cs236781-hw/lib/python3.7/site-packages/torch/nn/modules/container.py:92: UserWarning: Implicit dimension choice for softmax has been deprecated. Change the call to include dim=X as an argument.\n",
      "  input = module(input)\n"
     ]
    }
   ],
   "source": [
    "for i in range (10):\n",
    "    agent = hw4pg.PolicyAgent(env, p_net, device)\n",
    "    d = agent.current_action_distribution()\n",
    "    test.assertSequenceEqual(d.shape, (env.action_space.n,))\n",
    "    test.assertAlmostEqual(d.sum(), 1.0, delta=1e-5)\n",
    "    \n",
    "print(d)"
   ]
  },
  {
   "cell_type": "markdown",
   "metadata": {},
   "source": [
    "**TODO**: Implement the `step()` method of the `PolicyAgent`."
   ]
  },
  {
   "cell_type": "code",
   "execution_count": 7,
   "metadata": {},
   "outputs": [
    {
     "name": "stdout",
     "output_type": "stream",
     "text": [
      "Experience(state=tensor([-0.0143,  1.4219, -0.7155,  0.2519,  0.0171,  0.1750,  0.0000,  0.0000]), action=2, reward=-1.1033770810440615, is_done=False)\n"
     ]
    }
   ],
   "source": [
    "agent = hw4pg.PolicyAgent(env, p_net, device)\n",
    "exp = agent.step()\n",
    "\n",
    "test.assertIsInstance(exp, hw4pg.Experience)\n",
    "print(exp)"
   ]
  },
  {
   "cell_type": "markdown",
   "metadata": {},
   "source": [
    "To test our agent, we'll write some code that allows it to play an environment. We'll use the `Monitor`\n",
    "wrapper in `gym` to generate a video of the episode for visual debugging."
   ]
  },
  {
   "cell_type": "markdown",
   "metadata": {},
   "source": [
    "**TODO**: Complete the implementation of the `monitor_episode()` method of the `PolicyAgent`."
   ]
  },
  {
   "cell_type": "code",
   "execution_count": 8,
   "metadata": {},
   "outputs": [
    {
     "name": "stderr",
     "output_type": "stream",
     "text": [
      "/Users/GalFleissig/anaconda3/envs/cs236781-hw/lib/python3.7/site-packages/torch/nn/modules/container.py:92: UserWarning: Implicit dimension choice for softmax has been deprecated. Change the call to include dim=X as an argument.\n",
      "  input = module(input)\n"
     ]
    }
   ],
   "source": [
    "env, n_steps, reward = agent.monitor_episode(ENV_NAME, p_net, device=device)"
   ]
  },
  {
   "cell_type": "markdown",
   "metadata": {},
   "source": [
    "To display the Monitor video in this notebook, we'll use a helper function from our `jupyter_utils` and a small wrapper that extracts the path of the last video file. "
   ]
  },
  {
   "cell_type": "code",
   "execution_count": 10,
   "metadata": {},
   "outputs": [],
   "source": [
    "import cs236781.jupyter_utils as jupyter_utils\n",
    "\n",
    "def show_monitor_video(monitor_env, idx=0, **kw):\n",
    "    # Extract video path\n",
    "    video_path = monitor_env.videos[idx][0]\n",
    "    video_path = os.path.relpath(video_path, start=os.path.curdir)\n",
    "    \n",
    "    # Use helper function to embed the video\n",
    "    return jupyter_utils.show_video_in_notebook(video_path, **kw)"
   ]
  },
  {
   "cell_type": "code",
   "execution_count": 11,
   "metadata": {},
   "outputs": [
    {
     "name": "stdout",
     "output_type": "stream",
     "text": [
      "Episode ran for 105 steps. Total reward: -433.65\n"
     ]
    },
    {
     "data": {
      "text/html": [
       "<video src=\"data:video/mp4;base64,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\" controls autoplay width=\"500\" height=\"auto\" />"
      ],
      "text/plain": [
       "<IPython.core.display.HTML object>"
      ]
     },
     "execution_count": 11,
     "metadata": {},
     "output_type": "execute_result"
    }
   ],
   "source": [
    "print(f'Episode ran for {n_steps} steps. Total reward: {reward:.2f}')\n",
    "\n",
    "show_monitor_video(env)"
   ]
  },
  {
   "cell_type": "markdown",
   "metadata": {},
   "source": [
    "### Training data"
   ]
  },
  {
   "cell_type": "markdown",
   "metadata": {},
   "source": [
    "The next step is to create data to train on.\n",
    "We need to train on batches of state-action pairs, so that our network can learn to predict the actions.\n",
    "\n",
    "We'll split this task into three parts:\n",
    "1. Generate a batch of `Episode`s, by using an `Agent` that's playing according to our current policy network.\n",
    "   Each `Episode` object contains the `Experience` objects created by the agent.\n",
    "2. Calculate the total discounted reward for each state we encountered and action we took. This is our action-value estimate.\n",
    "3. Convert the `Episode`s into a batch of tensors to train on.\n",
    "   Each batch will contain states, action taken per state, reward accrued, and the calculated estimated state-values.\n",
    "   These will be stored in a `TrainBatch` object.\n"
   ]
  },
  {
   "cell_type": "markdown",
   "metadata": {},
   "source": [
    "**TODO**: Complete the implementation of the `episode_batch_generator()` method in the `TrainBatchDataset` class within the `hw4.rl_data` module. This will address part 1 in the list above."
   ]
  },
  {
   "cell_type": "code",
   "execution_count": 12,
   "metadata": {},
   "outputs": [
    {
     "name": "stderr",
     "output_type": "stream",
     "text": [
      "/Users/GalFleissig/anaconda3/envs/cs236781-hw/lib/python3.7/site-packages/torch/nn/modules/container.py:92: UserWarning: Implicit dimension choice for softmax has been deprecated. Change the call to include dim=X as an argument.\n",
      "  input = module(input)\n"
     ]
    },
    {
     "name": "stdout",
     "output_type": "stream",
     "text": [
      "First episode: Episode(total_reward=-254.20, #experences=120)\n"
     ]
    }
   ],
   "source": [
    "import hw4.rl_data as hw4data\n",
    "\n",
    "def agent_fn():\n",
    "    env = gym.make(ENV_NAME)\n",
    "    hp = hw4.answers.part1_pg_hyperparams()\n",
    "    p_net = hw4pg.PolicyNet.build_for_env(env, device, **hp)\n",
    "    return hw4pg.PolicyAgent(env, p_net, device)\n",
    "    \n",
    "ds = hw4data.TrainBatchDataset(agent_fn, episode_batch_size=8, gamma=0.9)\n",
    "batch_gen = ds.episode_batch_generator()\n",
    "b = next(batch_gen)\n",
    "print('First episode:', b[0])\n",
    "\n",
    "test.assertEqual(len(b), 8)\n",
    "for ep in b:\n",
    "    test.assertIsInstance(ep, hw4data.Episode)\n",
    "    \n",
    "    # Check that it's a full episode\n",
    "    is_done = [exp.is_done for exp in ep.experiences]\n",
    "    test.assertFalse(any(is_done[0:-1]))\n",
    "    test.assertTrue(is_done[-1])"
   ]
  },
  {
   "cell_type": "markdown",
   "metadata": {},
   "source": [
    "**TODO**: Complete the implementation of the `calc_qvals()` method in the `Episode` class.\n",
    "This will address part 2.\n",
    "These q-values are an estimate of the actual action value function: $\\hat{q}_{t} = \\sum_{t'\\geq t} \\gamma^{t'}r_{t'+1}$."
   ]
  },
  {
   "cell_type": "code",
   "execution_count": 13,
   "metadata": {},
   "outputs": [],
   "source": [
    "np.random.seed(SEED)\n",
    "test_rewards = np.random.randint(-10, 10, 100)\n",
    "test_experiences = [hw4pg.Experience(None,None,r,False) for r in test_rewards] \n",
    "test_episode = hw4data.Episode(np.sum(test_rewards), test_experiences)\n",
    "\n",
    "qvals = test_episode.calc_qvals(0.9)\n",
    "qvals = list(qvals)\n",
    "\n",
    "expected_qvals = np.load(os.path.join('tests', 'assets', 'part1_expected_qvals.npy'))\n",
    "for i in range(len(test_rewards)):\n",
    "    test.assertAlmostEqual(expected_qvals[i], qvals[i], delta=1e-3)"
   ]
  },
  {
   "cell_type": "markdown",
   "metadata": {},
   "source": [
    "**TODO**: Complete the implementation of the `from_episodes()` method in the `TrainBatch` class.\n",
    "This will address part 3.\n",
    "\n",
    "Notes:\n",
    "- The `TrainBatchDataset` class provides a generator function that will use the above function to lazily generate batches of training samples and labels on demand.\n",
    "- This allows us to use a standard `PyTorch` dataloader to wrap our Dataset and provide us with parallel data loading for free!\n",
    "  This means we can run multiple environments with multiple agents in separate background processes to generate data for training and thus prevent the data loading bottleneck which is caused by the fact that we must generate full Episodes to train on in order to calculate the q-values.\n",
    "- We'll set the `DataLoader`'s `batch_size` to `None` because we have already implemented custom batching in our dataset."
   ]
  },
  {
   "cell_type": "code",
   "execution_count": 14,
   "metadata": {},
   "outputs": [
    {
     "name": "stdout",
     "output_type": "stream",
     "text": [
      "#0: TrainBatch(states: torch.Size([716, 8]), actions: torch.Size([716]), q_vals: torch.Size([716])), num_episodes: 8)\n",
      "#1: TrainBatch(states: torch.Size([858, 8]), actions: torch.Size([858]), q_vals: torch.Size([858])), num_episodes: 8)\n",
      "#2: TrainBatch(states: torch.Size([728, 8]), actions: torch.Size([728]), q_vals: torch.Size([728])), num_episodes: 8)\n",
      "#3: TrainBatch(states: torch.Size([734, 8]), actions: torch.Size([734]), q_vals: torch.Size([734])), num_episodes: 8)\n",
      "#4: TrainBatch(states: torch.Size([825, 8]), actions: torch.Size([825]), q_vals: torch.Size([825])), num_episodes: 8)\n",
      "#5: TrainBatch(states: torch.Size([732, 8]), actions: torch.Size([732]), q_vals: torch.Size([732])), num_episodes: 8)\n",
      "#6: TrainBatch(states: torch.Size([713, 8]), actions: torch.Size([713]), q_vals: torch.Size([713])), num_episodes: 8)\n"
     ]
    }
   ],
   "source": [
    "from torch.utils.data import DataLoader\n",
    "\n",
    "ds = hw4data.TrainBatchDataset(agent_fn, episode_batch_size=8, gamma=0.9)\n",
    "dl = DataLoader(ds, batch_size=None, num_workers=0) # Run multiple agents/env in separate worker process\n",
    "\n",
    "\n",
    "for i, train_batch in enumerate(dl):\n",
    "    states, actions, qvals, reward_mean = train_batch\n",
    "    print(f'#{i}: {train_batch}')\n",
    "    test.assertEqual(states.shape[0], actions.shape[0])\n",
    "    test.assertEqual(qvals.shape[0], actions.shape[0])\n",
    "    test.assertEqual(states.shape[1], env.observation_space.shape[0])\n",
    "    if i > 5:\n",
    "        break"
   ]
  },
  {
   "cell_type": "markdown",
   "metadata": {},
   "source": [
    "### Loss functions"
   ]
  },
  {
   "cell_type": "markdown",
   "metadata": {},
   "source": [
    "As usual, we need a loss function to optimize over.\n",
    "We'll calculate three types of losses:\n",
    "1. The causal vanilla policy gradient loss.\n",
    "1. The policy gradient loss, with a baseline to reduce variance.\n",
    "2. An entropy-based loss whos purpose is to diversify the agent's action selection,\n",
    "   and prevent it from being \"too sure\" about its actions.\n",
    "   This loss will be used together with one of the above losses."
   ]
  },
  {
   "cell_type": "markdown",
   "metadata": {},
   "source": [
    "#### Causal vanilla policy-gradient"
   ]
  },
  {
   "cell_type": "markdown",
   "metadata": {},
   "source": [
    "We have derived the policy-gradient as\n",
    "$$\n",
    "\\grad\\mathcal{L}(\\vec{\\theta}) = \\E[\\tau]{-g(\\tau)\\sum_{t\\geq0} \\grad\\log \\pi_{\\vec{\\theta}}(a_t|s_t)}.\n",
    "$$\n",
    "\n",
    "By writing the discounted reward explicitly and enforcing causality, i.e. the action taken at time $t$ can't affect\n",
    "the reward at time $t'<t$, we can get a slightly lower-variance version of the policy gradient:\n",
    "\n",
    "$$\n",
    "\\grad\\mathcal{L}_{\\text{PG}}(\\vec{\\theta}) = \n",
    "\\E[\\tau]{-\\sum_{t\\geq0} \\left(\\sum_{t'\\geq t} \\gamma^{t'}r_{t'+1} \\right)\\grad\\log \\pi_{\\vec{\\theta}}(a_t|s_t)}.\n",
    "$$"
   ]
  },
  {
   "cell_type": "markdown",
   "metadata": {},
   "source": [
    "In practice, the expectation over trajectories is calculated using a Monte-Carlo approach, i.e. simply sampling $N$\n",
    "trajectories and average the term inside the expectation. Therefore, we will use the following estimated version of the policy gradient:\n",
    "\n",
    "$$\n",
    "\\begin{align}\n",
    "\\hat\\grad\\mathcal{L}_{\\text{PG}}(\\vec{\\theta})\n",
    "&=-\\frac{1}{N}\\sum_{i=1}^{N}\\sum_{t\\geq0} \\left(\\sum_{t'\\geq t} \\gamma^{t'}r_{i,t'+1} \\right)\\grad\\log \\pi_{\\vec{\\theta}}(a_{i,t}|s_{i,t}) \\\\\n",
    "&=-\\frac{1}{N}\\sum_{i=1}^{N}\\sum_{t\\geq0} \\hat{q}_{i,t} \\grad\\log \\pi_{\\vec{\\theta}}(a_{i,t}|s_{i,t}).\n",
    "\\end{align}\n",
    "$$\n",
    "\n",
    "Note the use of the notation $\\hat{q}_{i,t}$ to represent the estimated action-value at time $t$ in the sampled trajectory $i$.\n",
    "Here $\\hat{q}_{i,t}$ is acting as the weight-term for the policy gradient."
   ]
  },
  {
   "cell_type": "markdown",
   "metadata": {},
   "source": [
    "**TODO**: Complete the implementation of the `VanillaPolicyGradientLoss` class in the `hw4/rl_pg.py` module."
   ]
  },
  {
   "cell_type": "code",
   "execution_count": 15,
   "metadata": {},
   "outputs": [
    {
     "name": "stdout",
     "output_type": "stream",
     "text": [
      "loss = tensor(-35.5355)\n"
     ]
    }
   ],
   "source": [
    "# Ensure deterministic run\n",
    "env = gym.make(ENV_NAME)\n",
    "env.seed(SEED)\n",
    "torch.manual_seed(SEED)\n",
    "\n",
    "def agent_fn():\n",
    "    # Use a simple \"network\" here, so that this test doesn't depend on your specific PolicyNet implementation\n",
    "    p_net_test = nn.Linear(8, 4)\n",
    "    agent = hw4pg.PolicyAgent(env, p_net_test)\n",
    "    return agent\n",
    "\n",
    "dataloader = hw4data.TrainBatchDataset(agent_fn, gamma=0.9, episode_batch_size=4)\n",
    "\n",
    "test_batch = next(iter(dataloader))\n",
    "test_action_scores = torch.randn(len(test_batch), env.action_space.n)\n",
    "\n",
    "loss_fn_p = hw4pg.VanillaPolicyGradientLoss()\n",
    "loss_p, _ = loss_fn_p(test_batch, test_action_scores)\n",
    "\n",
    "print('loss =', loss_p)\n",
    "test.assertAlmostEqual(loss_p.item(), -35.535522, delta=1e-3)"
   ]
  },
  {
   "cell_type": "markdown",
   "metadata": {},
   "source": [
    "#### Policy-gradient with baseline"
   ]
  },
  {
   "cell_type": "markdown",
   "metadata": {},
   "source": [
    "Another way to reduce the variance of our gradient is to use relative weighting of the log-policy instead of absolute reward values.\n",
    "$$\n",
    "\\hat\\grad\\mathcal{L}_{\\text{BPG}}(\\vec{\\theta})\n",
    "=-\\frac{1}{N}\\sum_{i=1}^{N}\\sum_{t\\geq0} \\left(\\hat{q}_{i,t}-b\\right) \\grad\\log \\pi_{\\vec{\\theta}}(a_{i,t}|s_{i,t}).\n",
    "$$\n",
    "In other words, we don't measure a trajectory's worth by it's total reward, but by how much better that total reward is relative to some\n",
    "expected (\"baseline\") reward value, denoted above by $b$.\n",
    "Note that subtracting a baseline has no effect on the expected value of the policy gradient. It's easy to prove this directly by definition.\n",
    "\n",
    "Here we'll implement a very simple baseline (not optimal in terms of variance reduction): the average of the estimated state-values $\\hat{q}_{i,t}$."
   ]
  },
  {
   "cell_type": "markdown",
   "metadata": {},
   "source": [
    "**TODO**: Complete the implementation of the `BaselinePolicyGradientLoss` class in the `hw4/rl_pg.py` module."
   ]
  },
  {
   "cell_type": "code",
   "execution_count": 16,
   "metadata": {},
   "outputs": [
    {
     "name": "stdout",
     "output_type": "stream",
     "text": [
      "loss = tensor(-2.4665)\n"
     ]
    }
   ],
   "source": [
    "# Using the same batch and action_scores from above cell\n",
    "loss_fn_p = hw4pg.BaselinePolicyGradientLoss()\n",
    "loss_p, _ = loss_fn_p(test_batch, test_action_scores)\n",
    "\n",
    "print('loss =', loss_p)\n",
    "test.assertAlmostEqual(loss_p.item(), -2.4665009, delta=1e-3)"
   ]
  },
  {
   "cell_type": "markdown",
   "metadata": {},
   "source": [
    "#### Entropy loss"
   ]
  },
  {
   "cell_type": "markdown",
   "metadata": {},
   "source": [
    "The entropy of a probability distribution (in our case the policy), is\n",
    "$$\n",
    "H(\\pi) = -\\sum_{a} \\pi(a|s)\\log\\pi(a|s).\n",
    "$$\n",
    "The entropy is always positive and obtains it's maximum for a uniform distribution.\n",
    "We'll use the entropy of the policy as a bonus, i.e. we'll try to maximize it.\n",
    "The idea is the prevent the policy distribution from becoming too narrow and thus promote the agent's exploration."
   ]
  },
  {
   "cell_type": "markdown",
   "metadata": {},
   "source": [
    "First, we'll calculate the maximal possible entropy value of the action distribution for a set number of possible actions.\n",
    "This will be used as a normalization term.\n",
    "\n",
    "**TODO**: Complete the implementation of the `calc_max_entropy()` method in the `ActionEntropyLoss` class."
   ]
  },
  {
   "cell_type": "code",
   "execution_count": 17,
   "metadata": {},
   "outputs": [
    {
     "name": "stdout",
     "output_type": "stream",
     "text": [
      "max_entropy =  1.3862943611198906\n"
     ]
    }
   ],
   "source": [
    "loss_fn_e = hw4pg.ActionEntropyLoss(env.action_space.n)\n",
    "print('max_entropy = ', loss_fn_e.max_entropy)\n",
    "\n",
    "test.assertAlmostEqual(loss_fn_e.max_entropy, 1.38629436, delta=1e-3)"
   ]
  },
  {
   "cell_type": "markdown",
   "metadata": {},
   "source": [
    "**TODO**: Complete the implementation of the `forward()` method in the `ActionEntropyLoss` class."
   ]
  },
  {
   "cell_type": "code",
   "execution_count": 35,
   "metadata": {},
   "outputs": [
    {
     "name": "stdout",
     "output_type": "stream",
     "text": [
      "loss =  tensor(-0.7927)\n"
     ]
    },
    {
     "name": "stderr",
     "output_type": "stream",
     "text": [
      "/Users/GalFleissig/Technion/SemesterFinale/Meitzim/HW/236781_Deep_Learning/hw4/hw4/rl_pg.py:297: UserWarning: Implicit dimension choice for softmax has been deprecated. Change the call to include dim=X as an argument.\n",
      "  prob = torch.nn.functional.softmax(action_score)\n",
      "/Users/GalFleissig/Technion/SemesterFinale/Meitzim/HW/236781_Deep_Learning/hw4/hw4/rl_pg.py:298: UserWarning: Implicit dimension choice for log_softmax has been deprecated. Change the call to include dim=X as an argument.\n",
      "  log_prob = torch.nn.functional.log_softmax(action_score)\n"
     ]
    }
   ],
   "source": [
    "loss_e, _ = loss_fn_e(test_batch, test_action_scores)\n",
    "print('loss = ', loss_e)\n",
    "\n",
    "test.assertAlmostEqual(loss_e.item(), -0.7927002, delta=1e-3)"
   ]
  },
  {
   "cell_type": "markdown",
   "metadata": {},
   "source": [
    "### Training"
   ]
  },
  {
   "cell_type": "markdown",
   "metadata": {},
   "source": [
    "We'll implement our training procedure as follows:\n",
    "\n",
    "1. Initialize the current policy to be a random policy.\n",
    "1. Sample $N$ trajectories from the environment using the current policy.\n",
    "2. Calculate the estimated $q$-values, $\\hat{q}_{i,t} = \\sum_{t'\\geq t} \\gamma^{t'}r_{i,t'+1}$ for each trajectory $i$.\n",
    "3. Calculate policy gradient estimate $\\hat\\grad\\mathcal{L}(\\vec{\\theta})$ as defined above.\n",
    "4. Perform SGD update $\\vec{\\theta}\\leftarrow\\vec{\\theta}-\\eta\\hat\\grad\\mathcal{L}(\\vec{\\theta})$.\n",
    "5. Repeat from step 2.\n",
    "\n",
    "This is known as the **REINFORCE** algorithm."
   ]
  },
  {
   "cell_type": "markdown",
   "metadata": {},
   "source": [
    "Fortunately, we've already implemented everything we need for steps 1-4 so we need only a bit more code to put it all together.\n",
    "\n",
    "The following block implements a wrapper, `train_pg` to create all the objects we need in order to train our policy gradient model.\n"
   ]
  },
  {
   "cell_type": "code",
   "execution_count": 36,
   "metadata": {},
   "outputs": [],
   "source": [
    "import hw4.answers\n",
    "from functools import partial\n",
    "\n",
    "ENV_NAME = \"Beresheet-v2\"\n",
    "\n",
    "def agent_fn_train(agent_type, p_net, seed, envs_dict):\n",
    "    winfo = torch.utils.data.get_worker_info()\n",
    "    wid = winfo.id if winfo else 0\n",
    "    seed = seed + wid if seed else wid\n",
    "\n",
    "    env = gym.make(ENV_NAME)\n",
    "    envs_dict[wid] = env\n",
    "    env.seed(seed)\n",
    "    np.random.seed(seed)\n",
    "    torch.manual_seed(seed)\n",
    "\n",
    "    return agent_type(env, p_net)\n",
    "\n",
    "def train_rl(agent_type, net_type, loss_fns, hp, seed=None, checkpoints_file=None, **train_kw):\n",
    "    print(f'hyperparams: {hp}')\n",
    "    \n",
    "    envs = {}\n",
    "    p_net = net_type(ENV_N_OBSERVATIONS, ENV_N_ACTIONS, **hp)\n",
    "    p_net.share_memory()\n",
    "    agent_fn = partial(agent_fn_train, agent_type, p_net, seed, envs)\n",
    "    \n",
    "    dataset = hw4data.TrainBatchDataset(agent_fn, hp['batch_size'], hp['gamma'])\n",
    "    dataloader = DataLoader(dataset, batch_size=None, num_workers=2)\n",
    "    optimizer = optim.Adam(p_net.parameters(), lr=hp['learn_rate'], eps=hp['eps'])\n",
    "    \n",
    "    trainer = hw4pg.PolicyTrainer(p_net, optimizer, loss_fns, dataloader, checkpoints_file)\n",
    "    try:\n",
    "        trainer.train(**train_kw)\n",
    "    except KeyboardInterrupt as e:\n",
    "        print('Training interrupted by user.')\n",
    "    finally:\n",
    "        for env in envs.values():\n",
    "            env.close()\n",
    "\n",
    "    # Include final model state\n",
    "    training_data = trainer.training_data\n",
    "    training_data['model_state'] = p_net.state_dict()\n",
    "    return training_data\n",
    "    \n",
    "def train_pg(baseline=False, entropy=False, **train_kwargs):\n",
    "    hp = hw4.answers.part1_pg_hyperparams()\n",
    "    \n",
    "    loss_fns = []\n",
    "    if baseline:\n",
    "        loss_fns.append(hw4pg.BaselinePolicyGradientLoss())\n",
    "    else:\n",
    "        loss_fns.append(hw4pg.VanillaPolicyGradientLoss())\n",
    "    if entropy:\n",
    "        loss_fns.append(hw4pg.ActionEntropyLoss(ENV_N_ACTIONS, hp['beta']))\n",
    "\n",
    "    return train_rl(hw4pg.PolicyAgent, hw4pg.PolicyNet, loss_fns, hp, **train_kwargs)"
   ]
  },
  {
   "cell_type": "markdown",
   "metadata": {},
   "source": [
    "The `PolicyTrainer` class implements the training loop, collects the losses and rewards and provides some useful checkpointing functionality.\n",
    "The training loop will generate batches of episodes and train on them until either:\n",
    "- The average total reward from the last `running_mean_len` episodes is greater than the `target_reward`, OR\n",
    "- The number of generated episodes reached `max_episodes`.\n",
    "\n",
    "Most of this class is already implemented for you. "
   ]
  },
  {
   "cell_type": "markdown",
   "metadata": {},
   "source": [
    "**TODO**:\n",
    "1. Complete the training loop by implementing the `train_batch()` method of the `PolicyTrainer`.\n",
    "2. Tweak the hyperparameters in the `part1_pg_hyperparams()` function within the `hw4/answers.py` module as needed. You get some sane defaults."
   ]
  },
  {
   "cell_type": "markdown",
   "metadata": {},
   "source": [
    "Let's check whether our model is actually training.\n",
    "We'll try to reach a very low (bad) target reward, just as a sanity check to see that training works.\n",
    "Your model should be able to reach this target reward within a few batches.\n",
    "\n",
    "You can increase the target reward and use this block to manually tweak your model and hyperparameters a few times."
   ]
  },
  {
   "cell_type": "code",
   "execution_count": 38,
   "metadata": {},
   "outputs": [
    {
     "name": "stdout",
     "output_type": "stream",
     "text": [
      "hyperparams: {'batch_size': 32, 'gamma': 0.99, 'beta': 0.5, 'learn_rate': 0.001, 'eps': 1e-08}\n",
      "=== Training...\n",
      "#5: step=00017424, loss_p=-111.47, m_reward(10)=-148.9 (best=-162.8):  10%|▉         | 192/2000 [00:07<01:08, 26.23it/s]\n",
      "\n",
      "=== 🚀 SOLVED - Target reward reached! 🚀\n"
     ]
    }
   ],
   "source": [
    "target_reward = -150 # VERY LOW target\n",
    "train_data = train_pg(target_reward=target_reward, seed=SEED, max_episodes=2000, running_mean_len=10)\n",
    "\n",
    "test.assertGreater(train_data['mean_reward'][-1], target_reward)"
   ]
  },
  {
   "cell_type": "markdown",
   "metadata": {},
   "source": [
    "### Experimenting with different losses"
   ]
  },
  {
   "cell_type": "markdown",
   "metadata": {},
   "source": [
    "We'll now run a few experiments to see the effect of diferent loss functions on the training dynamics. Namely, we'll try:\n",
    "1. Vanilla PG (`vpg`): No baseline, no entropy\n",
    "2. Baseline PG (`bpg`): Baseline, no entropy loss\n",
    "3. Entropy PG (`epg`): No baseline, with entropy loss\n",
    "3. Combined PG (`cpg`): Baseline, with entropy loss"
   ]
  },
  {
   "cell_type": "code",
   "execution_count": null,
   "metadata": {},
   "outputs": [],
   "source": [
    "from collections import namedtuple\n",
    "from pprint import pprint\n",
    "import itertools as it\n",
    "\n",
    "\n",
    "ExpConfig = namedtuple('ExpConfig', ('name','baseline','entropy'))\n",
    "\n",
    "def exp_configs():\n",
    "    exp_names = ('vpg', 'epg', 'bpg', 'cpg')\n",
    "    z = zip(exp_names, it.product((False, True), (False, True)))\n",
    "    return (ExpConfig(n, b, e) for (n, (b, e)) in z)\n",
    "\n",
    "pprint(list(exp_configs()))"
   ]
  },
  {
   "cell_type": "markdown",
   "metadata": {},
   "source": [
    "We'll save the training data from each experiment for plotting."
   ]
  },
  {
   "cell_type": "code",
   "execution_count": null,
   "metadata": {},
   "outputs": [],
   "source": [
    "import pickle\n",
    "\n",
    "def dump_training_data(data, filename):\n",
    "    os.makedirs(os.path.dirname(filename), exist_ok=True)\n",
    "    with open(filename, mode='wb') as file:\n",
    "        pickle.dump(data, file)\n",
    "        \n",
    "def load_training_data(filename):\n",
    "    with open(filename, mode='rb') as file:\n",
    "        return pickle.load(file)"
   ]
  },
  {
   "cell_type": "markdown",
   "metadata": {},
   "source": [
    "Let's run the experiments! We'll run each configuration for a fixed number of episodes so that we can compare them.\n",
    "\n",
    "The results will be saved in a file. To re-run the experiments, delete the `training_data_filename`.\n",
    "\n",
    "Note: You can decrease the number of episodes for each experiment, or only run one experiment until your models start working."
   ]
  },
  {
   "cell_type": "code",
   "execution_count": null,
   "metadata": {},
   "outputs": [],
   "source": [
    "import math\n",
    "\n",
    "exp_max_episodes = 4000\n",
    "\n",
    "results = {}\n",
    "training_data_filename = os.path.join('results', f'part1_exp.dat')\n",
    "\n",
    "# Set to True to force re-run (careful, will delete old experiment results)\n",
    "force_run = False\n",
    "\n",
    "# Skip running if results file exists.\n",
    "if os.path.isfile(training_data_filename) and not force_run:\n",
    "    print(f'=== results file {training_data_filename} exists, skipping experiments.')\n",
    "    results = load_training_data(training_data_filename)\n",
    "    \n",
    "else:\n",
    "    for n, b, e in exp_configs():\n",
    "        print(f'=== Experiment {n}')\n",
    "        results[n] = train_pg(baseline=b, entropy=e, max_episodes=exp_max_episodes, post_batch_fn=None)\n",
    "        \n",
    "    dump_training_data(results, training_data_filename)"
   ]
  },
  {
   "cell_type": "code",
   "execution_count": null,
   "metadata": {},
   "outputs": [],
   "source": [
    "def plot_experiment_results(results, fig=None):\n",
    "    if fig is None:\n",
    "        fig, _ = plt.subplots(nrows=2, ncols=2, sharex=True, figsize=(18,12))\n",
    "    for i, plot_type in enumerate(('loss_p', 'baseline', 'loss_e', 'mean_reward')):\n",
    "        ax = fig.axes[i]\n",
    "        for exp_name, exp_res in results.items():\n",
    "            if plot_type not in exp_res:\n",
    "                continue\n",
    "            ax.plot(exp_res['episode_num'], exp_res[plot_type], label=exp_name)\n",
    "        ax.set_title(plot_type)\n",
    "        ax.set_xlabel('episode')\n",
    "        ax.legend()\n",
    "    return fig\n",
    "    \n",
    "experiments_results_fig = plot_experiment_results(results)"
   ]
  },
  {
   "cell_type": "markdown",
   "metadata": {},
   "source": [
    "You should see positive training dynamics in the graphs (reward going up).\n",
    "If you don't, use them to further update your model or hyperparams.\n",
    "\n",
    "To pass the test, you'll need to get a best total mean reward of at least 10 in the fixed number of epochs using the combined loss.\n",
    "It's possible to get much higher (over 100)."
   ]
  },
  {
   "cell_type": "code",
   "execution_count": null,
   "metadata": {},
   "outputs": [],
   "source": [
    "best_cpg_mean_reward = max(results['cpg']['mean_reward'])\n",
    "print(f'Best CPG mean reward: {best_cpg_mean_reward:.2f}')\n",
    "\n",
    "test.assertGreater(best_cpg_mean_reward, 10)"
   ]
  },
  {
   "cell_type": "markdown",
   "metadata": {},
   "source": [
    "Now let's take a look at a gameplay video of our `cpg` model after the short training!"
   ]
  },
  {
   "cell_type": "code",
   "execution_count": null,
   "metadata": {},
   "outputs": [],
   "source": [
    "hp = hw4.answers.part1_pg_hyperparams()\n",
    "p_net_cpg = hw4pg.PolicyNet.build_for_env(env, **hp)\n",
    "p_net_cpg.load_state_dict(results['cpg']['model_state'])\n",
    "\n",
    "env, n_steps, reward = hw4pg.PolicyAgent.monitor_episode(ENV_NAME, p_net_cpg)\n",
    "print(f'{n_steps} steps, total reward: {reward:.2f}')\n",
    "show_monitor_video(env)"
   ]
  },
  {
   "cell_type": "markdown",
   "metadata": {},
   "source": [
    "## Advantage Actor-Critic (AAC)\n",
    "<a id=part1_2></a>"
   ]
  },
  {
   "cell_type": "markdown",
   "metadata": {},
   "source": [
    "We have seen that the policy-gradient loss can be interpreted as a log-likelihood of the policy term\n",
    "(selecting a specific action at a specific state), weighted by the future rewards of that choice of action.\n",
    "\n",
    "However, naïvely weighting by rewards has significant drawbacks in terms of the variance of the resulting gradient.\n",
    "We addressed this by adding a simple baseline term which represented our \"expected reward\" so that we increase probability of actions\n",
    "leading to trajectories which exceed this expectation and vice-versa.\n",
    "\n",
    "In this part we'll explore a more powerful baseline, which is the idea behind the A2C method."
   ]
  },
  {
   "cell_type": "markdown",
   "metadata": {},
   "source": [
    "### The advantage function"
   ]
  },
  {
   "cell_type": "markdown",
   "metadata": {},
   "source": [
    "Recall the definition of the state-value function $v_{\\pi}(s)$ and action-value function $q_{\\pi}(s,a)$:\n",
    "\n",
    "$$\n",
    "\\begin{align}\n",
    "v_{\\pi}(s) &= \\E{g(\\tau)|s_0 = s,\\pi} \\\\\n",
    "q_{\\pi}(s,a) &= \\E{g(\\tau)|s_0 = s,a_0=a,\\pi}.\n",
    "\\end{align}\n",
    "$$\n",
    "\n",
    "Both these functions represent the value of the state $s$. However, $v_\\pi$ averages over the first action according to the policy,\n",
    "while $q_\\pi$ fixes the first action and then continues according to the policy."
   ]
  },
  {
   "cell_type": "markdown",
   "metadata": {},
   "source": [
    "Their difference is known as the **advantage function**:\n",
    "$$\n",
    "a_\\pi(s,a) = q_\\pi(s,a)-v_\\pi(s).\n",
    "$$\n",
    "\n",
    "If $a_\\pi(s,a)>0$ it means that it's better (in expectation) to take action $a$ in state $s$ compared to the average action.\n",
    "In other words, $a_\\pi(s,a)$ represents the *advantage* of using action $a$ in state $s$ compared to the others."
   ]
  },
  {
   "cell_type": "markdown",
   "metadata": {},
   "source": [
    "So far we have used an estimate for $q_\\pi$ as our weighting term for the log-policy, with a fixed baseline per batch.\n",
    "\n",
    "$$\n",
    "\\hat\\grad\\mathcal{L}_{\\text{BPG}}(\\vec{\\theta})\n",
    "=-\\frac{1}{N}\\sum_{i=1}^{N}\\sum_{t\\geq0} \\left(\\hat{q}_{i,t}-b\\right) \\grad\\log \\pi_{\\vec{\\theta}}(a_{i,t}|s_{i,t}).\n",
    "$$\n"
   ]
  },
  {
   "cell_type": "markdown",
   "metadata": {},
   "source": [
    "Now, we will use the state value as a baseline, so that an estimate of the advantage function is our weighting term:\n",
    "\n",
    "$$\n",
    "\\hat\\grad\\mathcal{L}_{\\text{AAC}}(\\vec{\\theta})\n",
    "=-\\frac{1}{N}\\sum_{i=1}^{N}\\sum_{t\\geq0} \\left(\\hat{q}_{i,t}-v_\\pi(s_t)\\right) \\grad\\log \\pi_{\\vec{\\theta}}(a_{i,t}|s_{i,t}).\n",
    "$$\n",
    "\n",
    "Intuitively, using the advantage function makes sense because it means we're weighting our policy's actions according to\n",
    "how advantageous they are compared to other possible actions."
   ]
  },
  {
   "cell_type": "markdown",
   "metadata": {},
   "source": [
    "But how will we know $v_\\pi(s)$? We'll learn it of course, using another neural network.\n",
    "This is known as actor-critic learning. We simultaneously learn the policy (actor) and the value of states (critic).\n",
    "We'll treat it as a regression task: given a state $s_t$, our state-value network will output $\\hat{v}_\\pi(s_t)$,\n",
    "an estimate of the actual unknown state-value.\n",
    "Our regression targets will be the discounted rewards, $\\hat{q}_{i,t}$ (see question 2),\n",
    "and we can use a simple MSE as the loss function,\n",
    "$$\n",
    "\\mathcal{L}_{\\text{SV}} = \\frac{1}{N}\\sum_{i=1}^{N}\\sum_{t\\geq0}\\left(\\hat{v}_\\pi(s_t) - \\hat{q}_{i,t}\\right)^2.\n",
    "$$\n"
   ]
  },
  {
   "cell_type": "markdown",
   "metadata": {},
   "source": [
    "### Implementation"
   ]
  },
  {
   "cell_type": "markdown",
   "metadata": {},
   "source": [
    "We'll build heavily on our implementation of the regular policy-gradient method, and just add a new model class and a new loss class, with a small modification to the agent."
   ]
  },
  {
   "cell_type": "markdown",
   "metadata": {},
   "source": [
    "Let's start with the model. It will accept a state, and return action scores (as before), but also the value of that state.\n",
    "You can experiment with a dual-head network that has a shared base, or implement two separate parts within the network.\n",
    "\n",
    "**TODO**:\n",
    "1. Implement the model as the `AACPolicyNet` class in the `hw4/rl_ac.py` module.\n",
    "1. Set the hyperparameters in the `part1_aac_hyperparams()` function of the `hw4.answers` module."
   ]
  },
  {
   "cell_type": "code",
   "execution_count": 40,
   "metadata": {},
   "outputs": [
    {
     "ename": "NotImplementedError",
     "evalue": "",
     "output_type": "error",
     "traceback": [
      "\u001b[0;31m---------------------------------------------------------------------------\u001b[0m",
      "\u001b[0;31mNotImplementedError\u001b[0m                       Traceback (most recent call last)",
      "\u001b[0;32m<ipython-input-40-f856c3b083fe>\u001b[0m in \u001b[0;36m<module>\u001b[0;34m\u001b[0m\n\u001b[1;32m      1\u001b[0m \u001b[0;32mimport\u001b[0m \u001b[0mhw4\u001b[0m\u001b[0;34m.\u001b[0m\u001b[0mrl_ac\u001b[0m \u001b[0;32mas\u001b[0m \u001b[0mhw4ac\u001b[0m\u001b[0;34m\u001b[0m\u001b[0;34m\u001b[0m\u001b[0m\n\u001b[1;32m      2\u001b[0m \u001b[0;34m\u001b[0m\u001b[0m\n\u001b[0;32m----> 3\u001b[0;31m \u001b[0mhp\u001b[0m \u001b[0;34m=\u001b[0m \u001b[0mhw4\u001b[0m\u001b[0;34m.\u001b[0m\u001b[0manswers\u001b[0m\u001b[0;34m.\u001b[0m\u001b[0mpart1_aac_hyperparams\u001b[0m\u001b[0;34m(\u001b[0m\u001b[0;34m)\u001b[0m\u001b[0;34m\u001b[0m\u001b[0;34m\u001b[0m\u001b[0m\n\u001b[0m\u001b[1;32m      4\u001b[0m \u001b[0mpv_net\u001b[0m \u001b[0;34m=\u001b[0m \u001b[0mhw4ac\u001b[0m\u001b[0;34m.\u001b[0m\u001b[0mAACPolicyNet\u001b[0m\u001b[0;34m.\u001b[0m\u001b[0mbuild_for_env\u001b[0m\u001b[0;34m(\u001b[0m\u001b[0menv\u001b[0m\u001b[0;34m,\u001b[0m \u001b[0mdevice\u001b[0m\u001b[0;34m,\u001b[0m \u001b[0;34m**\u001b[0m\u001b[0mhp\u001b[0m\u001b[0;34m)\u001b[0m\u001b[0;34m\u001b[0m\u001b[0;34m\u001b[0m\u001b[0m\n\u001b[1;32m      5\u001b[0m \u001b[0mpv_net\u001b[0m\u001b[0;34m\u001b[0m\u001b[0;34m\u001b[0m\u001b[0m\n",
      "\u001b[0;32m~/Technion/SemesterFinale/Meitzim/HW/236781_Deep_Learning/hw4/hw4/answers.py\u001b[0m in \u001b[0;36mpart1_aac_hyperparams\u001b[0;34m()\u001b[0m\n\u001b[1;32m     37\u001b[0m     \u001b[0;31m#   them for your model implementation.\u001b[0m\u001b[0;34m\u001b[0m\u001b[0;34m\u001b[0m\u001b[0;34m\u001b[0m\u001b[0m\n\u001b[1;32m     38\u001b[0m     \u001b[0;31m# ====== YOUR CODE: ======\u001b[0m\u001b[0;34m\u001b[0m\u001b[0;34m\u001b[0m\u001b[0;34m\u001b[0m\u001b[0m\n\u001b[0;32m---> 39\u001b[0;31m     \u001b[0;32mraise\u001b[0m \u001b[0mNotImplementedError\u001b[0m\u001b[0;34m(\u001b[0m\u001b[0;34m)\u001b[0m\u001b[0;34m\u001b[0m\u001b[0;34m\u001b[0m\u001b[0m\n\u001b[0m\u001b[1;32m     40\u001b[0m     \u001b[0;31m# ========================\u001b[0m\u001b[0;34m\u001b[0m\u001b[0;34m\u001b[0m\u001b[0;34m\u001b[0m\u001b[0m\n\u001b[1;32m     41\u001b[0m     \u001b[0;32mreturn\u001b[0m \u001b[0mhp\u001b[0m\u001b[0;34m\u001b[0m\u001b[0;34m\u001b[0m\u001b[0m\n",
      "\u001b[0;31mNotImplementedError\u001b[0m: "
     ]
    }
   ],
   "source": [
    "import hw4.rl_ac as hw4ac\n",
    "\n",
    "hp = hw4.answers.part1_aac_hyperparams()\n",
    "pv_net = hw4ac.AACPolicyNet.build_for_env(env, device, **hp)\n",
    "pv_net"
   ]
  },
  {
   "cell_type": "markdown",
   "metadata": {},
   "source": [
    "**TODO**: Complete the implementation of the agent class, `AACPolicyAgent`, in the `hw4/rl_ac.py` module."
   ]
  },
  {
   "cell_type": "code",
   "execution_count": null,
   "metadata": {},
   "outputs": [],
   "source": [
    "agent = hw4ac.AACPolicyAgent(env, pv_net, device)\n",
    "exp = agent.step()\n",
    "\n",
    "test.assertIsInstance(exp, hw4pg.Experience)\n",
    "print(exp)"
   ]
  },
  {
   "cell_type": "markdown",
   "metadata": {},
   "source": [
    "**TODO**: Implement the AAC loss function as the class `AACPolicyGradientLoss` in the `hw4/rl_ac.py` module."
   ]
  },
  {
   "cell_type": "code",
   "execution_count": null,
   "metadata": {},
   "outputs": [],
   "source": [
    "loss_fn_aac = hw4ac.AACPolicyGradientLoss(delta=1.)\n",
    "test_state_values = torch.ones(test_action_scores.shape[0], 1)\n",
    "loss_t, _ = loss_fn_aac(test_batch, (test_action_scores, test_state_values))\n",
    "\n",
    "print('loss_t =', loss_t)\n",
    "test.assertAlmostEqual(loss_t.item(), 975.230895, delta=1e-3)"
   ]
  },
  {
   "cell_type": "markdown",
   "metadata": {},
   "source": [
    "### Experimentation"
   ]
  },
  {
   "cell_type": "markdown",
   "metadata": {},
   "source": [
    "Let's run the same experiment as before, but with the AAC method and compare the results."
   ]
  },
  {
   "cell_type": "code",
   "execution_count": null,
   "metadata": {},
   "outputs": [],
   "source": [
    "def train_aac(baseline=False, entropy=False, **train_kwargs):\n",
    "    hp = hw4.answers.part1_aac_hyperparams()\n",
    "    loss_fns = [hw4ac.AACPolicyGradientLoss(hp['delta']), hw4pg.ActionEntropyLoss(ENV_N_ACTIONS, hp['beta'])]\n",
    "    return train_rl(hw4ac.AACPolicyAgent, hw4ac.AACPolicyNet, loss_fns, hp, **train_kwargs)"
   ]
  },
  {
   "cell_type": "code",
   "execution_count": null,
   "metadata": {},
   "outputs": [],
   "source": [
    "training_data_filename = os.path.join('results', f'part1_exp_aac.dat')\n",
    "\n",
    "# Set to True to force re-run (careful, will delete old experiment results)\n",
    "force_run = False\n",
    "\n",
    "if os.path.isfile(training_data_filename) and not force_run:\n",
    "    print(f'=== results file {training_data_filename} exists, skipping experiments.')\n",
    "    results_aac = load_training_data(training_data_filename)\n",
    "    \n",
    "else:\n",
    "    print(f'=== Running AAC experiment')\n",
    "    training_data = train_aac(max_episodes=exp_max_episodes)\n",
    "    results_aac = dict(aac=training_data)\n",
    "    dump_training_data(results_aac, training_data_filename)"
   ]
  },
  {
   "cell_type": "code",
   "execution_count": null,
   "metadata": {},
   "outputs": [],
   "source": [
    "experiments_results_fig = plot_experiment_results(results)\n",
    "plot_experiment_results(results_aac, fig=experiments_results_fig);"
   ]
  },
  {
   "cell_type": "markdown",
   "metadata": {},
   "source": [
    "You should get better results with the AAC method, so this time the bar is higher (again, you should aim for a mean reward of 100+).\n",
    "Compare the graphs with combined PG method and see if they make sense."
   ]
  },
  {
   "cell_type": "code",
   "execution_count": null,
   "metadata": {},
   "outputs": [],
   "source": [
    "best_aac_mean_reward = max(results_aac['aac']['mean_reward'])\n",
    "print(f'Best AAC mean reward: {best_aac_mean_reward:.2f}')\n",
    "\n",
    "test.assertGreater(best_aac_mean_reward, 50)"
   ]
  },
  {
   "cell_type": "markdown",
   "metadata": {},
   "source": [
    "### Final model training and visualization"
   ]
  },
  {
   "cell_type": "markdown",
   "metadata": {},
   "source": [
    "Now, using your best model and hyperparams, let's train model for much longer and see the performance.\n",
    "Just for fun, we'll also visualize an episode every now and then so that we can see how well the agent is playing."
   ]
  },
  {
   "cell_type": "code",
   "execution_count": null,
   "metadata": {},
   "outputs": [],
   "source": [
    "import IPython.display\n",
    "\n",
    "CHECKPOINTS_FILE = f'checkpoints/{ENV_NAME}-ac.dat'\n",
    "CHECKPOINTS_FILE_FINAL = f'checkpoints/{ENV_NAME}-ac_final.dat'\n",
    "TARGET_REWARD = 125\n",
    "MAX_EPISODES = 15_000\n",
    "\n",
    "def post_batch_fn(batch_idx, p_net, batch, print_every=20, final=False):\n",
    "    if not final and batch_idx % print_every != 0:\n",
    "        return\n",
    "    env, n_steps, reward = hw4ac.AACPolicyAgent.monitor_episode(ENV_NAME, p_net)\n",
    "    html = show_monitor_video(env, width=\"500\")\n",
    "    IPython.display.clear_output(wait=True)\n",
    "    print(f'Monitor@#{batch_idx}: n_steps={n_steps}, total_reward={reward:.3f}, final={final}')\n",
    "    IPython.display.display_html(html)\n",
    "    \n",
    "    \n",
    "if os.path.isfile(CHECKPOINTS_FILE_FINAL):\n",
    "    print(f'=== {CHECKPOINTS_FILE_FINAL} exists, skipping training...')\n",
    "    checkpoint_data = torch.load(CHECKPOINTS_FILE_FINAL)\n",
    "    hp = hw4.answers.part1_aac_hyperparams()\n",
    "    pv_net = hw4ac.AACPolicyNet.build_for_env(env, **hp)\n",
    "    pv_net.load_state_dict(checkpoint_data['params'])\n",
    "    print(f'=== Running best model...')\n",
    "    env, n_steps, reward = hw4ac.AACPolicyAgent.monitor_episode(ENV_NAME, pv_net)\n",
    "    print(f'=== Best model ran for {n_steps} steps. Total reward: {reward:.2f}')\n",
    "    IPython.display.display_html(show_monitor_video(env))\n",
    "    best_mean_reward = checkpoint_data[\"best_mean_reward\"]\n",
    "else:\n",
    "    print(f'=== Starting training...')\n",
    "    train_data = train_aac(TARGET_REWARD, max_episodes=MAX_EPISODES,\n",
    "                           seed=None, checkpoints_file=CHECKPOINTS_FILE, post_batch_fn=post_batch_fn)\n",
    "    print(f'=== Done, ', end='')\n",
    "    best_mean_reward = train_data[\"best_mean_reward\"][-1]\n",
    "    print(f'num_episodes={train_data[\"episode_num\"][-1]}, best_mean_reward={best_mean_reward:.1f}')\n",
    "          \n",
    "test.assertGreaterEqual(best_mean_reward, TARGET_REWARD)"
   ]
  },
  {
   "cell_type": "markdown",
   "metadata": {},
   "source": [
    "## Questions\n",
    "<a id=part1_3></a>"
   ]
  },
  {
   "cell_type": "markdown",
   "metadata": {},
   "source": [
    "**TODO**: Answer the following questions. Write your answers in the appropriate variables in the module `hw4/answers.py`."
   ]
  },
  {
   "cell_type": "code",
   "execution_count": null,
   "metadata": {},
   "outputs": [],
   "source": [
    "from cs236781.answers import display_answer\n",
    "import hw4.answers"
   ]
  },
  {
   "cell_type": "markdown",
   "metadata": {},
   "source": [
    "### Question 1\n",
    "\n",
    "Explain qualitatively why subtracting a baseline in the policy-gradient helps reduce it's variance.\n",
    "Specifically, give an example where it helps."
   ]
  },
  {
   "cell_type": "code",
   "execution_count": 39,
   "metadata": {},
   "outputs": [
    {
     "ename": "NameError",
     "evalue": "name 'display_answer' is not defined",
     "output_type": "error",
     "traceback": [
      "\u001b[0;31m---------------------------------------------------------------------------\u001b[0m",
      "\u001b[0;31mNameError\u001b[0m                                 Traceback (most recent call last)",
      "\u001b[0;32m<ipython-input-39-27e1034ce06f>\u001b[0m in \u001b[0;36m<module>\u001b[0;34m\u001b[0m\n\u001b[0;32m----> 1\u001b[0;31m \u001b[0mdisplay_answer\u001b[0m\u001b[0;34m(\u001b[0m\u001b[0mhw4\u001b[0m\u001b[0;34m.\u001b[0m\u001b[0manswers\u001b[0m\u001b[0;34m.\u001b[0m\u001b[0mpart1_q1\u001b[0m\u001b[0;34m)\u001b[0m\u001b[0;34m\u001b[0m\u001b[0;34m\u001b[0m\u001b[0m\n\u001b[0m",
      "\u001b[0;31mNameError\u001b[0m: name 'display_answer' is not defined"
     ]
    }
   ],
   "source": [
    "display_answer(hw4.answers.part1_q1)"
   ]
  },
  {
   "cell_type": "markdown",
   "metadata": {},
   "source": [
    "Imagine that we have two different trajectories in our batch. The first has a positive total reward and the second has a negative one.\n",
    "In this case, it's easy for the PG to update the policy such that the first trajectory's actions get higher probability. \n",
    "However, if we add a constant value to our reward function, for example such that the second one receives zero reward, this time the gradient will be completely different since it will not reduce the probabilities for the sends trajectory at all.\n",
    "\n",
    "Adding a baseline fixes this dependence on absolute values of the rewards, since we'll compare all rewards to some constant number.\n",
    "In the example above, subtracting a baseline will cause the gradient to be the same in both cases."
   ]
  },
  {
   "cell_type": "markdown",
   "metadata": {},
   "source": [
    "### Question 2\n",
    "\n",
    "In AAC, when using the estimated q-values as regression targets for our state-values, why do we get a valid approximation?\n",
    "Hint: how is $v_\\pi(s)$ expressed in terms of $q_\\pi(s,a)$?"
   ]
  },
  {
   "cell_type": "code",
   "execution_count": null,
   "metadata": {},
   "outputs": [],
   "source": [
    "display_answer(hw4.answers.part1_q2)"
   ]
  },
  {
   "cell_type": "markdown",
   "metadata": {},
   "source": [
    "### Question 3\n",
    "\n",
    "1. Analyze and explain the graphs you got in first experiment run.\n",
    "2. Compare the experiment graphs you got with the AAC method to the regular PG method (`cpg`)."
   ]
  },
  {
   "cell_type": "code",
   "execution_count": null,
   "metadata": {},
   "outputs": [],
   "source": [
    "display_answer(hw4.answers.part1_q3)"
   ]
  }
 ],
 "metadata": {
  "kernelspec": {
   "display_name": "Python 3",
   "language": "python",
   "name": "python3"
  },
  "language_info": {
   "codemirror_mode": {
    "name": "ipython",
    "version": 3
   },
   "file_extension": ".py",
   "mimetype": "text/x-python",
   "name": "python",
   "nbconvert_exporter": "python",
   "pygments_lexer": "ipython3",
   "version": "3.7.5"
  }
 },
 "nbformat": 4,
 "nbformat_minor": 4
}
