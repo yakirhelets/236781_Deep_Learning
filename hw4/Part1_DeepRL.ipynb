{
 "cells": [
  {
   "cell_type": "markdown",
   "metadata": {},
   "source": [
    "$$\n",
    "\\newcommand{\\mat}[1]{\\boldsymbol {#1}}\n",
    "\\newcommand{\\mattr}[1]{\\boldsymbol {#1}^\\top}\n",
    "\\newcommand{\\matinv}[1]{\\boldsymbol {#1}^{-1}}\n",
    "\\newcommand{\\vec}[1]{\\boldsymbol {#1}}\n",
    "\\newcommand{\\vectr}[1]{\\boldsymbol {#1}^\\top}\n",
    "\\newcommand{\\rvar}[1]{\\mathrm {#1}}\n",
    "\\newcommand{\\rvec}[1]{\\boldsymbol{\\mathrm{#1}}}\n",
    "\\newcommand{\\diag}{\\mathop{\\mathrm {diag}}}\n",
    "\\newcommand{\\set}[1]{\\mathbb {#1}}\n",
    "\\newcommand{\\cset}[1]{\\mathcal{#1}}\n",
    "\\newcommand{\\norm}[1]{\\left\\lVert#1\\right\\rVert}\n",
    "\\newcommand{\\pderiv}[2]{\\frac{\\partial #1}{\\partial #2}}\n",
    "\\newcommand{\\bb}[1]{\\boldsymbol{#1}}\n",
    "\\newcommand{\\E}[2][]{\\mathbb{E}_{#1}\\left[#2\\right]}\n",
    "\\newcommand{\\ip}[3]{\\left<#1,#2\\right>_{#3}}\n",
    "\\newcommand{\\given}[]{\\,\\middle\\vert\\,}\n",
    "\\newcommand{\\DKL}[2]{\\cset{D}_{\\text{KL}}\\left(#1\\,\\Vert\\, #2\\right)}\n",
    "\\newcommand{\\grad}[]{\\nabla}\n",
    "$$\n",
    "# Part 1: Deep Reinforcement Learning\n",
    "<a id=part1></a>"
   ]
  },
  {
   "cell_type": "markdown",
   "metadata": {},
   "source": [
    "In the tutorial we have seen value-based reinforcement learning, in which we learn to approximate the action-value function $q(s,a)$.\n",
    "\n",
    "In this exercise we'll explore a different approach, directly learning the agent's policy distribution, $\\pi(a|s)$\n",
    "by using *policy gradients*, in order to safely land on the moon!"
   ]
  },
  {
   "cell_type": "code",
   "execution_count": 19,
   "metadata": {},
   "outputs": [
    {
     "name": "stdout",
     "output_type": "stream",
     "text": [
      "The autoreload extension is already loaded. To reload it, use:\n",
      "  %reload_ext autoreload\n"
     ]
    }
   ],
   "source": [
    "%load_ext autoreload\n",
    "%autoreload 2\n",
    "%matplotlib inline\n",
    "\n",
    "import unittest\n",
    "import os\n",
    "import sys\n",
    "import pathlib\n",
    "import urllib\n",
    "import shutil\n",
    "import re\n",
    "\n",
    "import numpy as np\n",
    "import torch\n",
    "import torch.nn as nn\n",
    "import torch.optim as optim\n",
    "import matplotlib.pyplot as plt"
   ]
  },
  {
   "cell_type": "code",
   "execution_count": 20,
   "metadata": {},
   "outputs": [
    {
     "name": "stdout",
     "output_type": "stream",
     "text": [
      "Using device: cpu\n"
     ]
    }
   ],
   "source": [
    "test = unittest.TestCase()\n",
    "plt.rcParams.update({'font.size': 12})\n",
    "device = torch.device('cuda' if torch.cuda.is_available() else 'cpu')\n",
    "\n",
    "# Prefer CPU, GPU won't help much in this assignment\n",
    "device = 'cpu'\n",
    "print('Using device:', device)\n",
    "\n",
    "# Seed for deterministic tests\n",
    "SEED = 42"
   ]
  },
  {
   "cell_type": "markdown",
   "metadata": {},
   "source": [
    "Some technical notes before we begin:\n",
    "\n",
    "- This part does not require a GPU. We won't need large models, and the computation bottleneck will be the generation of episodes to train on.\n",
    "- In order to run this notebook on the server, you must prepend the `xvfb-run` command to create a virtual screen. For example,\n",
    "    - to run the jupyter lab script with `srun` do\n",
    "        ```\n",
    "        srun -c2 --gres=gpu:1 xvfb-run -a -s \"-screen 0 1440x900x24\" ./jupyter-lab.sh\n",
    "        ```\n",
    "    - To run the submission script, do\n",
    "        ```\n",
    "        srun -c2 xvfb-run -a -s \"-screen 0 1440x900x24\" python main.py prepare-submission ...\n",
    "        ```\n",
    "    and so on.\n",
    "- The OpenAI `gym` library is not officially supported on windows. However it should be possible to install and run the necessary environment for this exercise. However, we cannot provide you with technical support for this. If you have trouble installing locally, we suggest running on the course server."
   ]
  },
  {
   "cell_type": "markdown",
   "metadata": {},
   "source": [
    "## Policy gradients\n",
    "<a id=part1_1></a>"
   ]
  },
  {
   "cell_type": "markdown",
   "metadata": {},
   "source": [
    "Recall from the tutorial that we define the **policy** of an agent as the conditional distribution,\n",
    "$$\n",
    "\\pi(a|s) = \\Pr(a_t=a\\vert s_t=s),\n",
    "$$\n",
    "which defines how likely the agent is to take action $a$ at state $s$.\n",
    "\n",
    "Furthermore we define the action-value function,\n",
    "$$\n",
    "q_{\\pi}(s,a) = \\E{g_t(\\tau)|s_t = s,a_t=a,\\pi}\n",
    "$$\n",
    "where \n",
    "$$\n",
    "g_t(\\tau) = r_{t+1}+\\gamma r_{t+2} + \\dots = \\sum_{k=0}^{\\infty} \\gamma^k r_{t+1+k},\n",
    "$$\n",
    "is the total discounted reward of a specific trajectory $\\tau$ from time $t$, and the expectation in $q$ is over all possible\n",
    "trajectories,\n",
    "$\n",
    "\\tau=\\left\\{ (s_0,a_0,r_1,s_1), \\dots (s_T,a_T,r_{T+1},s_{T+1}) \\right\\}.\n",
    "$"
   ]
  },
  {
   "cell_type": "markdown",
   "metadata": {},
   "source": [
    "In the tutorial we saw that we can learn a value function starting with some random function and\n",
    "updating it iteratively by using the **Bellman optimality equation**.\n",
    "Given that we have some action-value function, we can immediately create a policy based on that\n",
    "by simply selecting an action which maximize the action-value at the current state, i.e.\n",
    "$$\n",
    "\\pi(a|s) =\n",
    "\\begin{cases}\n",
    "1, & a = \\arg\\max_{a'\\in\\cset{A}} q(s,a') \\\\\n",
    "0, & \\text{else}\n",
    "\\end{cases}.\n",
    "$$\n",
    "This is called $q$-learning. This approach aims to obtain a policy indirectly through the action-value function.\n",
    "Yet, in most cases we don't actually care about knowing the value of particular states,\n",
    "since all we need is a good policy for our agent. \n",
    "\n",
    "Here we'll take a different approach and learn a policy distribution $\\pi(a|s)$ directly - by using **policy gradients**."
   ]
  },
  {
   "cell_type": "markdown",
   "metadata": {},
   "source": [
    "### Formalism"
   ]
  },
  {
   "cell_type": "markdown",
   "metadata": {},
   "source": [
    "We define a parametric policy, $\\pi_\\vec{\\theta}(a|s)$, and maximize total discounted reward (or minimize the negative reward):\n",
    "$$\n",
    "\\mathcal{L}(\\vec{\\theta})=\\E[\\tau]{-g(\\tau)|\\pi_\\vec{\\theta}} = -\\int g(\\tau)p(\\tau|\\vec{\\theta})d\\tau,\n",
    "$$\n",
    "where $p(\\tau|\\vec{\\theta})$ is the probability of a specific trajectory $\\tau$ under the policy defined by $\\vec{\\theta}$.\n"
   ]
  },
  {
   "cell_type": "markdown",
   "metadata": {},
   "source": [
    "Since we want to find the parameters $\\vec{\\theta}$ which minimize $\\mathcal{L}(\\vec{\\theta})$, we'll compute the gradient w.r.t. $\\vec{\\theta}$:\n",
    "$$\n",
    "\\grad\\mathcal{L}(\\vec{\\theta}) = -\\int g(\\tau)\\grad p(\\tau|\\vec{\\theta})d\\tau.\n",
    "$$\n",
    "\n",
    "Unfortunately, if we try to write $p(\\tau|\\vec{\\theta})$ explicitly,\n",
    "we find that computing it's gradient with respect to $\\vec{\\theta}$ is\n",
    "quite intractable due to a huge product of terms depending on $\\vec{\\theta}$:\n",
    "$$\n",
    "p(\\tau|\\vec{\\theta})=p\\left(\\left\\{ (s_t,a_t,r_{t+1},s_{t+1})\\right\\}_{t\\geq0}\\given\\vec{\\theta}\\right)\n",
    "=p(s_0)\\prod_{t\\geq0} \\pi_{\\vec{\\theta}}(a_t|s_t)p(s_{t+1}|s_t,a_t).\n",
    "$$"
   ]
  },
  {
   "cell_type": "markdown",
   "metadata": {},
   "source": [
    "However, by using the fact that $\\grad_{x}\\log(f(x))=\\frac{\\grad_{x}f(x)}{f(x)}$, we can convert the product into a sum:\n",
    "$$\n",
    "\\begin{align}\n",
    "\\grad\\mathcal{L}(\\vec{\\theta})\n",
    "&= -\\int g(\\tau)\\grad p(\\tau|\\vec{\\theta})d\\tau\n",
    "= -\\int g(\\tau)\\frac{\\grad p(\\tau|\\vec{\\theta})}{p(\\tau|\\vec{\\theta})}p(\\tau|\\vec{\\theta})d\\tau \\\\\n",
    "&= -\\int g(\\tau)\\grad\\log\\left(p(\\tau|\\vec{\\theta})\\right)p(\\tau|\\vec{\\theta})d\\tau \\\\\n",
    "&= -\\int g(\\tau)\\grad\\log\\left( p(s_0)\\prod_{t\\geq0} \\pi_{\\vec{\\theta}}(a_t|s_t)p(s_{t+1}|s_t,a_t) \\right)\n",
    "p(\\tau|\\vec{\\theta})d\\tau \\\\\n",
    "&= -\\int g(\\tau)\\grad\\left( \\log p(s_0) + \\sum_{t\\geq0} \\log \\pi_{\\vec{\\theta}}(a_t|s_t) + \n",
    "\\sum_{t\\geq0}\\log p(s_{t+1}|s_t,a_t) \\right) p(\\tau|\\vec{\\theta})d\\tau \\\\\n",
    "&= -\\int g(\\tau)\\sum_{t\\geq0} \\grad\\log \\pi_{\\vec{\\theta}}(a_t|s_t) p(\\tau|\\vec{\\theta})d\\tau \\\\\n",
    "&= \\E[\\tau]{-g(\\tau)\\sum_{t\\geq0} \\grad\\log \\pi_{\\vec{\\theta}}(a_t|s_t)}.\n",
    "\\end{align}\n",
    "$$"
   ]
  },
  {
   "cell_type": "markdown",
   "metadata": {},
   "source": [
    "This is the \"vanilla\" version of the policy gradient. We can interpret is as a weighted log-likelihood function.\n",
    "The log-policy is the log-likelihood term we wish to maximize and the total discounted reward acts as a weight: high-return positive\n",
    "trajectories will cause the probability of actions taken during them to increase, and negative-return trajectories will cause the\n",
    "probabilities of actions taken to decrease.\n",
    "\n",
    "In the following figures we see three trajectories: high-return positive-reward (green), low-return positive-reward (yellow) and negative-return (red) and the action probabilities along the trajectories after the update. Credit: Sergey Levine.\n",
    "\n",
    "|<strong></strong>||\n",
    "|-----| ----|\n",
    "|<img src=\"imgs/pg1.png\" height=\"200\">|<img src=\"imgs/pg2.png\" height=\"200\">|\n"
   ]
  },
  {
   "cell_type": "markdown",
   "metadata": {},
   "source": [
    "The major drawback of the policy-gradient is it's high variance, which causes erratic optimization behavior and therefore slow convergence.\n",
    "One reason for this is that the log-policy weight term, $g(\\tau)$ can vary wildly between different trajectories, even if they're similar in\n",
    "actions. Later on we'll implement the loss and explore some methods of variance reduction."
   ]
  },
  {
   "cell_type": "markdown",
   "metadata": {},
   "source": [
    "### Landing on the moon with policy gradients"
   ]
  },
  {
   "cell_type": "markdown",
   "metadata": {},
   "source": [
    "In the spirit of the recent achievements of the Israeli space industry,\n",
    "we'll apply our reinforcement learning skills to solve a simple game called **LunarLander**.\n",
    "\n",
    "This game is available as an `environment` in OpenAI `gym`.\n",
    "\n",
    "<video loop autoplay src=\"http://gym.openai.com/videos/2019-04-06--My9IiAbqha/LunarLander-v2/original.mp4\" />"
   ]
  },
  {
   "cell_type": "markdown",
   "metadata": {},
   "source": [
    "In this environment, you need to control the lander and get it to land safely on the moon.\n",
    "To do so, you must apply bottom, right or left thrusters (each are either fully on or fully off)\n",
    "and get it to land within the designated zone as quickly as possible and with minimal wasted fuel."
   ]
  },
  {
   "cell_type": "code",
   "execution_count": 21,
   "metadata": {},
   "outputs": [],
   "source": [
    "import gym\n",
    "\n",
    "# Just for fun :) ... but also to re-define the default max number of steps\n",
    "ENV_NAME = 'Beresheet-v2'\n",
    "MAX_EPISODE_STEPS = 300\n",
    "if ENV_NAME not in gym.envs.registry.env_specs:\n",
    "    gym.register(\n",
    "        id=ENV_NAME,\n",
    "        entry_point='gym.envs.box2d:LunarLander',\n",
    "        max_episode_steps=MAX_EPISODE_STEPS,\n",
    "        reward_threshold=200,\n",
    "    )"
   ]
  },
  {
   "cell_type": "code",
   "execution_count": 22,
   "metadata": {},
   "outputs": [
    {
     "name": "stdout",
     "output_type": "stream",
     "text": [
      "<TimeLimit<LunarLander<Beresheet-v2>>>\n",
      "observations space: Box(8,)\n",
      "action space: Discrete(4)\n"
     ]
    }
   ],
   "source": [
    "import gym\n",
    "\n",
    "env = gym.make(ENV_NAME)\n",
    "\n",
    "print(env)\n",
    "print(f'observations space: {env.observation_space}')\n",
    "print(f'action space: {env.action_space}')\n",
    "\n",
    "ENV_N_ACTIONS = env.action_space.n\n",
    "ENV_N_OBSERVATIONS = env.observation_space.shape[0]"
   ]
  },
  {
   "cell_type": "markdown",
   "metadata": {},
   "source": [
    "The observations at each step is the Lander's position, velocity, angle, angular velocity and ground contact state.\n",
    "The actions are no-op, fire left truster, bottom thruster and right thruster.\n",
    "\n",
    "You are **highly encouraged** to read the [documentation](https://github.com/openai/gym/blob/master/gym/envs/box2d/lunar_lander.py) in the source code of the `LunarLander` environment to understand the reward system,\n",
    "and see how the actions and observations are created."
   ]
  },
  {
   "cell_type": "markdown",
   "metadata": {},
   "source": [
    "### Policy network and Agent"
   ]
  },
  {
   "cell_type": "markdown",
   "metadata": {},
   "source": [
    "Let's start with our policy-model. This will be a simple neural net, which should take an observation and return a score for each possible action."
   ]
  },
  {
   "cell_type": "markdown",
   "metadata": {},
   "source": [
    "**TODO**:\n",
    "1. Implement all methods in the `PolicyNet` class in the `hw4/rl_pg.py` module.\n",
    "   Start small. A simple MLP with a few hidden layers is a good starting point. You can come back and change it later based on the the experiments. The we'll use the `build_for_env` method to instantiate a `PolicyNet` based on the configuration of a given environment.\n",
    "2. If you need hyperparameters to configure your model (e.g. number of hidden layers, sizes, etc.), add them in `part1_pg_hyperparams()` in `hw4/answers.py`."
   ]
  },
  {
   "cell_type": "code",
   "execution_count": 23,
   "metadata": {},
   "outputs": [
    {
     "data": {
      "text/plain": [
       "PolicyNet(\n",
       "  (pn): Sequential(\n",
       "    (0): Linear(in_features=8, out_features=32, bias=True)\n",
       "    (1): ReLU()\n",
       "    (2): Linear(in_features=32, out_features=64, bias=True)\n",
       "    (3): ReLU()\n",
       "    (4): Linear(in_features=64, out_features=4, bias=True)\n",
       "    (5): Softmax(dim=None)\n",
       "  )\n",
       ")"
      ]
     },
     "execution_count": 23,
     "metadata": {},
     "output_type": "execute_result"
    }
   ],
   "source": [
    "import hw4.rl_pg as hw4pg\n",
    "import hw4.answers\n",
    "\n",
    "hp = hw4.answers.part1_pg_hyperparams()\n",
    "\n",
    "# You can add keyword-args to this function which will be populated from the hyperparameters dict.\n",
    "p_net = hw4pg.PolicyNet.build_for_env(env, device, **hp)\n",
    "p_net"
   ]
  },
  {
   "cell_type": "markdown",
   "metadata": {},
   "source": [
    "Now we need an **agent**. The purpose of our agent will be to act according to the current policy and generate experiences.\n",
    "Our `PolicyAgent` will use a `PolicyNet` as the current policy function.\n",
    "\n",
    "\n",
    "We'll also define some extra datatypes to help us represent the data generated by our agent.\n",
    "You can find the `Experience`, `Episode` and `TrainBatch` datatypes in the `hw4/rl_pg.py` module."
   ]
  },
  {
   "cell_type": "markdown",
   "metadata": {},
   "source": [
    "**TODO**: Implement the `current_action_distribution()` method of the `PolicyAgent` class in the `hw4/rl_pg.py` module."
   ]
  },
  {
   "cell_type": "code",
   "execution_count": 24,
   "metadata": {},
   "outputs": [
    {
     "name": "stdout",
     "output_type": "stream",
     "text": [
      "tensor([0.2393, 0.2749, 0.2349, 0.2509], grad_fn=<SoftmaxBackward>)\n"
     ]
    }
   ],
   "source": [
    "for i in range (10):\n",
    "    agent = hw4pg.PolicyAgent(env, p_net, device)\n",
    "    d = agent.current_action_distribution()\n",
    "    test.assertSequenceEqual(d.shape, (env.action_space.n,))\n",
    "    test.assertAlmostEqual(d.sum(), 1.0, delta=1e-5)\n",
    "    \n",
    "print(d)"
   ]
  },
  {
   "cell_type": "markdown",
   "metadata": {},
   "source": [
    "**TODO**: Implement the `step()` method of the `PolicyAgent`."
   ]
  },
  {
   "cell_type": "code",
   "execution_count": 25,
   "metadata": {},
   "outputs": [
    {
     "name": "stdout",
     "output_type": "stream",
     "text": [
      "Experience(state=tensor([-0.0092,  1.4021, -0.4642, -0.2085,  0.0105,  0.1041,  0.0000,  0.0000]), action=0, reward=-0.9914208269761673, is_done=False)\n"
     ]
    }
   ],
   "source": [
    "agent = hw4pg.PolicyAgent(env, p_net, device)\n",
    "exp = agent.step()\n",
    "\n",
    "test.assertIsInstance(exp, hw4pg.Experience)\n",
    "print(exp)"
   ]
  },
  {
   "cell_type": "markdown",
   "metadata": {},
   "source": [
    "To test our agent, we'll write some code that allows it to play an environment. We'll use the `Monitor`\n",
    "wrapper in `gym` to generate a video of the episode for visual debugging."
   ]
  },
  {
   "cell_type": "markdown",
   "metadata": {},
   "source": [
    "**TODO**: Complete the implementation of the `monitor_episode()` method of the `PolicyAgent`."
   ]
  },
  {
   "cell_type": "code",
   "execution_count": 26,
   "metadata": {},
   "outputs": [],
   "source": [
    "env, n_steps, reward = agent.monitor_episode(ENV_NAME, p_net, device=device)"
   ]
  },
  {
   "cell_type": "markdown",
   "metadata": {},
   "source": [
    "To display the Monitor video in this notebook, we'll use a helper function from our `jupyter_utils` and a small wrapper that extracts the path of the last video file. "
   ]
  },
  {
   "cell_type": "code",
   "execution_count": 27,
   "metadata": {},
   "outputs": [],
   "source": [
    "import cs236781.jupyter_utils as jupyter_utils\n",
    "\n",
    "def show_monitor_video(monitor_env, idx=0, **kw):\n",
    "    # Extract video path\n",
    "    video_path = monitor_env.videos[idx][0]\n",
    "    video_path = os.path.relpath(video_path, start=os.path.curdir)\n",
    "    \n",
    "    # Use helper function to embed the video\n",
    "    return jupyter_utils.show_video_in_notebook(video_path, **kw)"
   ]
  },
  {
   "cell_type": "code",
   "execution_count": 28,
   "metadata": {},
   "outputs": [
    {
     "name": "stdout",
     "output_type": "stream",
     "text": [
      "Episode ran for 89 steps. Total reward: -103.82\n"
     ]
    },
    {
     "data": {
      "text/html": [
       "<video src=\"data:video/mp4;base64,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\" controls autoplay width=\"500\" height=\"auto\" />"
      ],
      "text/plain": [
       "<IPython.core.display.HTML object>"
      ]
     },
     "execution_count": 28,
     "metadata": {},
     "output_type": "execute_result"
    }
   ],
   "source": [
    "print(f'Episode ran for {n_steps} steps. Total reward: {reward:.2f}')\n",
    "\n",
    "show_monitor_video(env)"
   ]
  },
  {
   "cell_type": "markdown",
   "metadata": {},
   "source": [
    "### Training data"
   ]
  },
  {
   "cell_type": "markdown",
   "metadata": {},
   "source": [
    "The next step is to create data to train on.\n",
    "We need to train on batches of state-action pairs, so that our network can learn to predict the actions.\n",
    "\n",
    "We'll split this task into three parts:\n",
    "1. Generate a batch of `Episode`s, by using an `Agent` that's playing according to our current policy network.\n",
    "   Each `Episode` object contains the `Experience` objects created by the agent.\n",
    "2. Calculate the total discounted reward for each state we encountered and action we took. This is our action-value estimate.\n",
    "3. Convert the `Episode`s into a batch of tensors to train on.\n",
    "   Each batch will contain states, action taken per state, reward accrued, and the calculated estimated state-values.\n",
    "   These will be stored in a `TrainBatch` object.\n"
   ]
  },
  {
   "cell_type": "markdown",
   "metadata": {},
   "source": [
    "**TODO**: Complete the implementation of the `episode_batch_generator()` method in the `TrainBatchDataset` class within the `hw4.rl_data` module. This will address part 1 in the list above."
   ]
  },
  {
   "cell_type": "code",
   "execution_count": 29,
   "metadata": {},
   "outputs": [
    {
     "name": "stdout",
     "output_type": "stream",
     "text": [
      "First episode: Episode(total_reward=-126.24, #experences=59)\n"
     ]
    }
   ],
   "source": [
    "import hw4.rl_data as hw4data\n",
    "\n",
    "def agent_fn():\n",
    "    env = gym.make(ENV_NAME)\n",
    "    hp = hw4.answers.part1_pg_hyperparams()\n",
    "    p_net = hw4pg.PolicyNet.build_for_env(env, device, **hp)\n",
    "    return hw4pg.PolicyAgent(env, p_net, device)\n",
    "    \n",
    "ds = hw4data.TrainBatchDataset(agent_fn, episode_batch_size=8, gamma=0.9)\n",
    "batch_gen = ds.episode_batch_generator()\n",
    "b = next(batch_gen)\n",
    "print('First episode:', b[0])\n",
    "\n",
    "test.assertEqual(len(b), 8)\n",
    "for ep in b:\n",
    "    test.assertIsInstance(ep, hw4data.Episode)\n",
    "    \n",
    "    # Check that it's a full episode\n",
    "    is_done = [exp.is_done for exp in ep.experiences]\n",
    "    test.assertFalse(any(is_done[0:-1]))\n",
    "    test.assertTrue(is_done[-1])"
   ]
  },
  {
   "cell_type": "markdown",
   "metadata": {},
   "source": [
    "**TODO**: Complete the implementation of the `calc_qvals()` method in the `Episode` class.\n",
    "This will address part 2.\n",
    "These q-values are an estimate of the actual action value function: $\\hat{q}_{t} = \\sum_{t'\\geq t} \\gamma^{t'}r_{t'+1}$."
   ]
  },
  {
   "cell_type": "code",
   "execution_count": 30,
   "metadata": {},
   "outputs": [],
   "source": [
    "np.random.seed(SEED)\n",
    "test_rewards = np.random.randint(-10, 10, 100)\n",
    "test_experiences = [hw4pg.Experience(None,None,r,False) for r in test_rewards] \n",
    "test_episode = hw4data.Episode(np.sum(test_rewards), test_experiences)\n",
    "\n",
    "qvals = test_episode.calc_qvals(0.9)\n",
    "qvals = list(qvals)\n",
    "\n",
    "expected_qvals = np.load(os.path.join('tests', 'assets', 'part1_expected_qvals.npy'))\n",
    "for i in range(len(test_rewards)):\n",
    "    test.assertAlmostEqual(expected_qvals[i], qvals[i], delta=1e-3)"
   ]
  },
  {
   "cell_type": "markdown",
   "metadata": {},
   "source": [
    "**TODO**: Complete the implementation of the `from_episodes()` method in the `TrainBatch` class.\n",
    "This will address part 3.\n",
    "\n",
    "Notes:\n",
    "- The `TrainBatchDataset` class provides a generator function that will use the above function to lazily generate batches of training samples and labels on demand.\n",
    "- This allows us to use a standard `PyTorch` dataloader to wrap our Dataset and provide us with parallel data loading for free!\n",
    "  This means we can run multiple environments with multiple agents in separate background processes to generate data for training and thus prevent the data loading bottleneck which is caused by the fact that we must generate full Episodes to train on in order to calculate the q-values.\n",
    "- We'll set the `DataLoader`'s `batch_size` to `None` because we have already implemented custom batching in our dataset."
   ]
  },
  {
   "cell_type": "code",
   "execution_count": 31,
   "metadata": {},
   "outputs": [
    {
     "name": "stdout",
     "output_type": "stream",
     "text": [
      "#0: TrainBatch(states: torch.Size([713, 8]), actions: torch.Size([713]), q_vals: torch.Size([713])), num_episodes: 8)\n",
      "#1: TrainBatch(states: torch.Size([718, 8]), actions: torch.Size([718]), q_vals: torch.Size([718])), num_episodes: 8)\n",
      "#2: TrainBatch(states: torch.Size([711, 8]), actions: torch.Size([711]), q_vals: torch.Size([711])), num_episodes: 8)\n",
      "#3: TrainBatch(states: torch.Size([646, 8]), actions: torch.Size([646]), q_vals: torch.Size([646])), num_episodes: 8)\n",
      "#4: TrainBatch(states: torch.Size([665, 8]), actions: torch.Size([665]), q_vals: torch.Size([665])), num_episodes: 8)\n",
      "#5: TrainBatch(states: torch.Size([743, 8]), actions: torch.Size([743]), q_vals: torch.Size([743])), num_episodes: 8)\n",
      "#6: TrainBatch(states: torch.Size([746, 8]), actions: torch.Size([746]), q_vals: torch.Size([746])), num_episodes: 8)\n"
     ]
    }
   ],
   "source": [
    "from torch.utils.data import DataLoader\n",
    "\n",
    "ds = hw4data.TrainBatchDataset(agent_fn, episode_batch_size=8, gamma=0.9)\n",
    "dl = DataLoader(ds, batch_size=None, num_workers=0) # Run multiple agents/env in separate worker process\n",
    "\n",
    "for i, train_batch in enumerate(dl):\n",
    "    states, actions, qvals, reward_mean = train_batch\n",
    "    print(f'#{i}: {train_batch}')\n",
    "    test.assertEqual(states.shape[0], actions.shape[0])\n",
    "    test.assertEqual(qvals.shape[0], actions.shape[0])\n",
    "    test.assertEqual(states.shape[1], env.observation_space.shape[0])\n",
    "    if i > 5:\n",
    "        break"
   ]
  },
  {
   "cell_type": "markdown",
   "metadata": {},
   "source": [
    "### Loss functions"
   ]
  },
  {
   "cell_type": "markdown",
   "metadata": {},
   "source": [
    "As usual, we need a loss function to optimize over.\n",
    "We'll calculate three types of losses:\n",
    "1. The causal vanilla policy gradient loss.\n",
    "1. The policy gradient loss, with a baseline to reduce variance.\n",
    "2. An entropy-based loss whos purpose is to diversify the agent's action selection,\n",
    "   and prevent it from being \"too sure\" about its actions.\n",
    "   This loss will be used together with one of the above losses."
   ]
  },
  {
   "cell_type": "markdown",
   "metadata": {},
   "source": [
    "#### Causal vanilla policy-gradient"
   ]
  },
  {
   "cell_type": "markdown",
   "metadata": {},
   "source": [
    "We have derived the policy-gradient as\n",
    "$$\n",
    "\\grad\\mathcal{L}(\\vec{\\theta}) = \\E[\\tau]{-g(\\tau)\\sum_{t\\geq0} \\grad\\log \\pi_{\\vec{\\theta}}(a_t|s_t)}.\n",
    "$$\n",
    "\n",
    "By writing the discounted reward explicitly and enforcing causality, i.e. the action taken at time $t$ can't affect\n",
    "the reward at time $t'<t$, we can get a slightly lower-variance version of the policy gradient:\n",
    "\n",
    "$$\n",
    "\\grad\\mathcal{L}_{\\text{PG}}(\\vec{\\theta}) = \n",
    "\\E[\\tau]{-\\sum_{t\\geq0} \\left(\\sum_{t'\\geq t} \\gamma^{t'}r_{t'+1} \\right)\\grad\\log \\pi_{\\vec{\\theta}}(a_t|s_t)}.\n",
    "$$"
   ]
  },
  {
   "cell_type": "markdown",
   "metadata": {},
   "source": [
    "In practice, the expectation over trajectories is calculated using a Monte-Carlo approach, i.e. simply sampling $N$\n",
    "trajectories and average the term inside the expectation. Therefore, we will use the following estimated version of the policy gradient:\n",
    "\n",
    "$$\n",
    "\\begin{align}\n",
    "\\hat\\grad\\mathcal{L}_{\\text{PG}}(\\vec{\\theta})\n",
    "&=-\\frac{1}{N}\\sum_{i=1}^{N}\\sum_{t\\geq0} \\left(\\sum_{t'\\geq t} \\gamma^{t'}r_{i,t'+1} \\right)\\grad\\log \\pi_{\\vec{\\theta}}(a_{i,t}|s_{i,t}) \\\\\n",
    "&=-\\frac{1}{N}\\sum_{i=1}^{N}\\sum_{t\\geq0} \\hat{q}_{i,t} \\grad\\log \\pi_{\\vec{\\theta}}(a_{i,t}|s_{i,t}).\n",
    "\\end{align}\n",
    "$$\n",
    "\n",
    "Note the use of the notation $\\hat{q}_{i,t}$ to represent the estimated action-value at time $t$ in the sampled trajectory $i$.\n",
    "Here $\\hat{q}_{i,t}$ is acting as the weight-term for the policy gradient."
   ]
  },
  {
   "cell_type": "markdown",
   "metadata": {},
   "source": [
    "**TODO**: Complete the implementation of the `VanillaPolicyGradientLoss` class in the `hw4/rl_pg.py` module."
   ]
  },
  {
   "cell_type": "code",
   "execution_count": 32,
   "metadata": {},
   "outputs": [
    {
     "ename": "NotImplementedError",
     "evalue": "",
     "output_type": "error",
     "traceback": [
      "\u001b[1;31m---------------------------------------------------------------------------\u001b[0m",
      "\u001b[1;31mNotImplementedError\u001b[0m                       Traceback (most recent call last)",
      "\u001b[1;32m<ipython-input-32-225b3566f036>\u001b[0m in \u001b[0;36m<module>\u001b[1;34m\u001b[0m\n\u001b[0;32m     16\u001b[0m \u001b[1;33m\u001b[0m\u001b[0m\n\u001b[0;32m     17\u001b[0m \u001b[0mloss_fn_p\u001b[0m \u001b[1;33m=\u001b[0m \u001b[0mhw4pg\u001b[0m\u001b[1;33m.\u001b[0m\u001b[0mVanillaPolicyGradientLoss\u001b[0m\u001b[1;33m(\u001b[0m\u001b[1;33m)\u001b[0m\u001b[1;33m\u001b[0m\u001b[1;33m\u001b[0m\u001b[0m\n\u001b[1;32m---> 18\u001b[1;33m \u001b[0mloss_p\u001b[0m\u001b[1;33m,\u001b[0m \u001b[0m_\u001b[0m \u001b[1;33m=\u001b[0m \u001b[0mloss_fn_p\u001b[0m\u001b[1;33m(\u001b[0m\u001b[0mtest_batch\u001b[0m\u001b[1;33m,\u001b[0m \u001b[0mtest_action_scores\u001b[0m\u001b[1;33m)\u001b[0m\u001b[1;33m\u001b[0m\u001b[1;33m\u001b[0m\u001b[0m\n\u001b[0m\u001b[0;32m     19\u001b[0m \u001b[1;33m\u001b[0m\u001b[0m\n\u001b[0;32m     20\u001b[0m \u001b[0mprint\u001b[0m\u001b[1;33m(\u001b[0m\u001b[1;34m'loss ='\u001b[0m\u001b[1;33m,\u001b[0m \u001b[0mloss_p\u001b[0m\u001b[1;33m)\u001b[0m\u001b[1;33m\u001b[0m\u001b[1;33m\u001b[0m\u001b[0m\n",
      "\u001b[1;32mC:\\ProgramData\\Anaconda3\\envs\\cs236781-hw\\lib\\site-packages\\torch\\nn\\modules\\module.py\u001b[0m in \u001b[0;36m__call__\u001b[1;34m(self, *input, **kwargs)\u001b[0m\n\u001b[0;32m    539\u001b[0m             \u001b[0mresult\u001b[0m \u001b[1;33m=\u001b[0m \u001b[0mself\u001b[0m\u001b[1;33m.\u001b[0m\u001b[0m_slow_forward\u001b[0m\u001b[1;33m(\u001b[0m\u001b[1;33m*\u001b[0m\u001b[0minput\u001b[0m\u001b[1;33m,\u001b[0m \u001b[1;33m**\u001b[0m\u001b[0mkwargs\u001b[0m\u001b[1;33m)\u001b[0m\u001b[1;33m\u001b[0m\u001b[1;33m\u001b[0m\u001b[0m\n\u001b[0;32m    540\u001b[0m         \u001b[1;32melse\u001b[0m\u001b[1;33m:\u001b[0m\u001b[1;33m\u001b[0m\u001b[1;33m\u001b[0m\u001b[0m\n\u001b[1;32m--> 541\u001b[1;33m             \u001b[0mresult\u001b[0m \u001b[1;33m=\u001b[0m \u001b[0mself\u001b[0m\u001b[1;33m.\u001b[0m\u001b[0mforward\u001b[0m\u001b[1;33m(\u001b[0m\u001b[1;33m*\u001b[0m\u001b[0minput\u001b[0m\u001b[1;33m,\u001b[0m \u001b[1;33m**\u001b[0m\u001b[0mkwargs\u001b[0m\u001b[1;33m)\u001b[0m\u001b[1;33m\u001b[0m\u001b[1;33m\u001b[0m\u001b[0m\n\u001b[0m\u001b[0;32m    542\u001b[0m         \u001b[1;32mfor\u001b[0m \u001b[0mhook\u001b[0m \u001b[1;32min\u001b[0m \u001b[0mself\u001b[0m\u001b[1;33m.\u001b[0m\u001b[0m_forward_hooks\u001b[0m\u001b[1;33m.\u001b[0m\u001b[0mvalues\u001b[0m\u001b[1;33m(\u001b[0m\u001b[1;33m)\u001b[0m\u001b[1;33m:\u001b[0m\u001b[1;33m\u001b[0m\u001b[1;33m\u001b[0m\u001b[0m\n\u001b[0;32m    543\u001b[0m             \u001b[0mhook_result\u001b[0m \u001b[1;33m=\u001b[0m \u001b[0mhook\u001b[0m\u001b[1;33m(\u001b[0m\u001b[0mself\u001b[0m\u001b[1;33m,\u001b[0m \u001b[0minput\u001b[0m\u001b[1;33m,\u001b[0m \u001b[0mresult\u001b[0m\u001b[1;33m)\u001b[0m\u001b[1;33m\u001b[0m\u001b[1;33m\u001b[0m\u001b[0m\n",
      "\u001b[1;32mD:\\Projects\\236781_Deep_Learning\\hw4\\hw4\\rl_pg.py\u001b[0m in \u001b[0;36mforward\u001b[1;34m(self, batch, action_scores, **kw)\u001b[0m\n\u001b[0;32m    179\u001b[0m         \u001b[1;31m#  and then the loss using the weights and action scores.\u001b[0m\u001b[1;33m\u001b[0m\u001b[1;33m\u001b[0m\u001b[1;33m\u001b[0m\u001b[0m\n\u001b[0;32m    180\u001b[0m         \u001b[1;31m# ====== YOUR CODE: ======\u001b[0m\u001b[1;33m\u001b[0m\u001b[1;33m\u001b[0m\u001b[1;33m\u001b[0m\u001b[0m\n\u001b[1;32m--> 181\u001b[1;33m         \u001b[1;32mraise\u001b[0m \u001b[0mNotImplementedError\u001b[0m\u001b[1;33m(\u001b[0m\u001b[1;33m)\u001b[0m\u001b[1;33m\u001b[0m\u001b[1;33m\u001b[0m\u001b[0m\n\u001b[0m\u001b[0;32m    182\u001b[0m         \u001b[1;31m# ========================\u001b[0m\u001b[1;33m\u001b[0m\u001b[1;33m\u001b[0m\u001b[1;33m\u001b[0m\u001b[0m\n\u001b[0;32m    183\u001b[0m         \u001b[1;32mreturn\u001b[0m \u001b[0mloss_p\u001b[0m\u001b[1;33m,\u001b[0m \u001b[0mdict\u001b[0m\u001b[1;33m(\u001b[0m\u001b[0mloss_p\u001b[0m\u001b[1;33m=\u001b[0m\u001b[0mloss_p\u001b[0m\u001b[1;33m.\u001b[0m\u001b[0mitem\u001b[0m\u001b[1;33m(\u001b[0m\u001b[1;33m)\u001b[0m\u001b[1;33m)\u001b[0m\u001b[1;33m\u001b[0m\u001b[1;33m\u001b[0m\u001b[0m\n",
      "\u001b[1;31mNotImplementedError\u001b[0m: "
     ]
    }
   ],
   "source": [
    "# Ensure deterministic run\n",
    "env = gym.make(ENV_NAME)\n",
    "env.seed(SEED)\n",
    "torch.manual_seed(SEED)\n",
    "\n",
    "def agent_fn():\n",
    "    # Use a simple \"network\" here, so that this test doesn't depend on your specific PolicyNet implementation\n",
    "    p_net_test = nn.Linear(8, 4)\n",
    "    agent = hw4pg.PolicyAgent(env, p_net_test)\n",
    "    return agent\n",
    "\n",
    "dataloader = hw4data.TrainBatchDataset(agent_fn, gamma=0.9, episode_batch_size=4)\n",
    "\n",
    "test_batch = next(iter(dataloader))\n",
    "test_action_scores = torch.randn(len(test_batch), env.action_space.n)\n",
    "\n",
    "loss_fn_p = hw4pg.VanillaPolicyGradientLoss()\n",
    "loss_p, _ = loss_fn_p(test_batch, test_action_scores)\n",
    "\n",
    "print('loss =', loss_p)\n",
    "test.assertAlmostEqual(loss_p.item(), -35.535522, delta=1e-3)"
   ]
  },
  {
   "cell_type": "markdown",
   "metadata": {},
   "source": [
    "#### Policy-gradient with baseline"
   ]
  },
  {
   "cell_type": "markdown",
   "metadata": {},
   "source": [
    "Another way to reduce the variance of our gradient is to use relative weighting of the log-policy instead of absolute reward values.\n",
    "$$\n",
    "\\hat\\grad\\mathcal{L}_{\\text{BPG}}(\\vec{\\theta})\n",
    "=-\\frac{1}{N}\\sum_{i=1}^{N}\\sum_{t\\geq0} \\left(\\hat{q}_{i,t}-b\\right) \\grad\\log \\pi_{\\vec{\\theta}}(a_{i,t}|s_{i,t}).\n",
    "$$\n",
    "In other words, we don't measure a trajectory's worth by it's total reward, but by how much better that total reward is relative to some\n",
    "expected (\"baseline\") reward value, denoted above by $b$.\n",
    "Note that subtracting a baseline has no effect on the expected value of the policy gradient. It's easy to prove this directly by definition.\n",
    "\n",
    "Here we'll implement a very simple baseline (not optimal in terms of variance reduction): the average of the estimated state-values $\\hat{q}_{i,t}$."
   ]
  },
  {
   "cell_type": "markdown",
   "metadata": {},
   "source": [
    "**TODO**: Complete the implementation of the `BaselinePolicyGradientLoss` class in the `hw4/rl_pg.py` module."
   ]
  },
  {
   "cell_type": "code",
   "execution_count": null,
   "metadata": {},
   "outputs": [],
   "source": [
    "# Using the same batch and action_scores from above cell\n",
    "loss_fn_p = hw4pg.BaselinePolicyGradientLoss()\n",
    "loss_p, _ = loss_fn_p(test_batch, test_action_scores)\n",
    "\n",
    "print('loss =', loss_p)\n",
    "test.assertAlmostEqual(loss_p.item(), -2.4665009, delta=1e-3)"
   ]
  },
  {
   "cell_type": "markdown",
   "metadata": {},
   "source": [
    "#### Entropy loss"
   ]
  },
  {
   "cell_type": "markdown",
   "metadata": {},
   "source": [
    "The entropy of a probability distribution (in our case the policy), is\n",
    "$$\n",
    "H(\\pi) = -\\sum_{a} \\pi(a|s)\\log\\pi(a|s).\n",
    "$$\n",
    "The entropy is always positive and obtains it's maximum for a uniform distribution.\n",
    "We'll use the entropy of the policy as a bonus, i.e. we'll try to maximize it.\n",
    "The idea is the prevent the policy distribution from becoming too narrow and thus promote the agent's exploration."
   ]
  },
  {
   "cell_type": "markdown",
   "metadata": {},
   "source": [
    "First, we'll calculate the maximal possible entropy value of the action distribution for a set number of possible actions.\n",
    "This will be used as a normalization term.\n",
    "\n",
    "**TODO**: Complete the implementation of the `calc_max_entropy()` method in the `ActionEntropyLoss` class."
   ]
  },
  {
   "cell_type": "code",
   "execution_count": null,
   "metadata": {},
   "outputs": [],
   "source": [
    "loss_fn_e = hw4pg.ActionEntropyLoss(env.action_space.n)\n",
    "print('max_entropy = ', loss_fn_e.max_entropy)\n",
    "\n",
    "test.assertAlmostEqual(loss_fn_e.max_entropy, 1.38629436, delta=1e-3)"
   ]
  },
  {
   "cell_type": "markdown",
   "metadata": {},
   "source": [
    "**TODO**: Complete the implementation of the `forward()` method in the `ActionEntropyLoss` class."
   ]
  },
  {
   "cell_type": "code",
   "execution_count": null,
   "metadata": {},
   "outputs": [],
   "source": [
    "loss_e, _ = loss_fn_e(test_batch, test_action_scores)\n",
    "print('loss = ', loss_e)\n",
    "\n",
    "test.assertAlmostEqual(loss_e.item(), -0.7927002, delta=1e-3)"
   ]
  },
  {
   "cell_type": "markdown",
   "metadata": {},
   "source": [
    "### Training"
   ]
  },
  {
   "cell_type": "markdown",
   "metadata": {},
   "source": [
    "We'll implement our training procedure as follows:\n",
    "\n",
    "1. Initialize the current policy to be a random policy.\n",
    "1. Sample $N$ trajectories from the environment using the current policy.\n",
    "2. Calculate the estimated $q$-values, $\\hat{q}_{i,t} = \\sum_{t'\\geq t} \\gamma^{t'}r_{i,t'+1}$ for each trajectory $i$.\n",
    "3. Calculate policy gradient estimate $\\hat\\grad\\mathcal{L}(\\vec{\\theta})$ as defined above.\n",
    "4. Perform SGD update $\\vec{\\theta}\\leftarrow\\vec{\\theta}-\\eta\\hat\\grad\\mathcal{L}(\\vec{\\theta})$.\n",
    "5. Repeat from step 2.\n",
    "\n",
    "This is known as the **REINFORCE** algorithm."
   ]
  },
  {
   "cell_type": "markdown",
   "metadata": {},
   "source": [
    "Fortunately, we've already implemented everything we need for steps 1-4 so we need only a bit more code to put it all together.\n",
    "\n",
    "The following block implements a wrapper, `train_pg` to create all the objects we need in order to train our policy gradient model.\n"
   ]
  },
  {
   "cell_type": "code",
   "execution_count": null,
   "metadata": {},
   "outputs": [],
   "source": [
    "import hw4.answers\n",
    "from functools import partial\n",
    "\n",
    "ENV_NAME = \"Beresheet-v2\"\n",
    "\n",
    "def agent_fn_train(agent_type, p_net, seed, envs_dict):\n",
    "    winfo = torch.utils.data.get_worker_info()\n",
    "    wid = winfo.id if winfo else 0\n",
    "    seed = seed + wid if seed else wid\n",
    "\n",
    "    env = gym.make(ENV_NAME)\n",
    "    envs_dict[wid] = env\n",
    "    env.seed(seed)\n",
    "    np.random.seed(seed)\n",
    "    torch.manual_seed(seed)\n",
    "\n",
    "    return agent_type(env, p_net)\n",
    "\n",
    "def train_rl(agent_type, net_type, loss_fns, hp, seed=None, checkpoints_file=None, **train_kw):\n",
    "    print(f'hyperparams: {hp}')\n",
    "    \n",
    "    envs = {}\n",
    "    p_net = net_type(ENV_N_OBSERVATIONS, ENV_N_ACTIONS, **hp)\n",
    "    p_net.share_memory()\n",
    "    agent_fn = partial(agent_fn_train, agent_type, p_net, seed, envs)\n",
    "    \n",
    "    dataset = hw4data.TrainBatchDataset(agent_fn, hp['batch_size'], hp['gamma'])\n",
    "    dataloader = DataLoader(dataset, batch_size=None, num_workers=2)\n",
    "    optimizer = optim.Adam(p_net.parameters(), lr=hp['learn_rate'], eps=hp['eps'])\n",
    "    \n",
    "    trainer = hw4pg.PolicyTrainer(p_net, optimizer, loss_fns, dataloader, checkpoints_file)\n",
    "    try:\n",
    "        trainer.train(**train_kw)\n",
    "    except KeyboardInterrupt as e:\n",
    "        print('Training interrupted by user.')\n",
    "    finally:\n",
    "        for env in envs.values():\n",
    "            env.close()\n",
    "\n",
    "    # Include final model state\n",
    "    training_data = trainer.training_data\n",
    "    training_data['model_state'] = p_net.state_dict()\n",
    "    return training_data\n",
    "    \n",
    "def train_pg(baseline=False, entropy=False, **train_kwargs):\n",
    "    hp = hw4.answers.part1_pg_hyperparams()\n",
    "    \n",
    "    loss_fns = []\n",
    "    if baseline:\n",
    "        loss_fns.append(hw4pg.BaselinePolicyGradientLoss())\n",
    "    else:\n",
    "        loss_fns.append(hw4pg.VanillaPolicyGradientLoss())\n",
    "    if entropy:\n",
    "        loss_fns.append(hw4pg.ActionEntropyLoss(ENV_N_ACTIONS, hp['beta']))\n",
    "\n",
    "    return train_rl(hw4pg.PolicyAgent, hw4pg.PolicyNet, loss_fns, hp, **train_kwargs)"
   ]
  },
  {
   "cell_type": "markdown",
   "metadata": {},
   "source": [
    "The `PolicyTrainer` class implements the training loop, collects the losses and rewards and provides some useful checkpointing functionality.\n",
    "The training loop will generate batches of episodes and train on them until either:\n",
    "- The average total reward from the last `running_mean_len` episodes is greater than the `target_reward`, OR\n",
    "- The number of generated episodes reached `max_episodes`.\n",
    "\n",
    "Most of this class is already implemented for you. "
   ]
  },
  {
   "cell_type": "markdown",
   "metadata": {},
   "source": [
    "**TODO**:\n",
    "1. Complete the training loop by implementing the `train_batch()` method of the `PolicyTrainer`.\n",
    "2. Tweak the hyperparameters in the `part1_pg_hyperparams()` function within the `hw4/answers.py` module as needed. You get some sane defaults."
   ]
  },
  {
   "cell_type": "markdown",
   "metadata": {},
   "source": [
    "Let's check whether our model is actually training.\n",
    "We'll try to reach a very low (bad) target reward, just as a sanity check to see that training works.\n",
    "Your model should be able to reach this target reward within a few batches.\n",
    "\n",
    "You can increase the target reward and use this block to manually tweak your model and hyperparameters a few times."
   ]
  },
  {
   "cell_type": "code",
   "execution_count": null,
   "metadata": {},
   "outputs": [],
   "source": [
    "target_reward = -150 # VERY LOW target\n",
    "train_data = train_pg(target_reward=target_reward, seed=SEED, max_episodes=2000, running_mean_len=10)\n",
    "\n",
    "test.assertGreater(train_data['mean_reward'][-1], target_reward)"
   ]
  },
  {
   "cell_type": "markdown",
   "metadata": {},
   "source": [
    "### Experimenting with different losses"
   ]
  },
  {
   "cell_type": "markdown",
   "metadata": {},
   "source": [
    "We'll now run a few experiments to see the effect of diferent loss functions on the training dynamics. Namely, we'll try:\n",
    "1. Vanilla PG (`vpg`): No baseline, no entropy\n",
    "2. Baseline PG (`bpg`): Baseline, no entropy loss\n",
    "3. Entropy PG (`epg`): No baseline, with entropy loss\n",
    "3. Combined PG (`cpg`): Baseline, with entropy loss"
   ]
  },
  {
   "cell_type": "code",
   "execution_count": null,
   "metadata": {},
   "outputs": [],
   "source": [
    "from collections import namedtuple\n",
    "from pprint import pprint\n",
    "import itertools as it\n",
    "\n",
    "\n",
    "ExpConfig = namedtuple('ExpConfig', ('name','baseline','entropy'))\n",
    "\n",
    "def exp_configs():\n",
    "    exp_names = ('vpg', 'epg', 'bpg', 'cpg')\n",
    "    z = zip(exp_names, it.product((False, True), (False, True)))\n",
    "    return (ExpConfig(n, b, e) for (n, (b, e)) in z)\n",
    "\n",
    "pprint(list(exp_configs()))"
   ]
  },
  {
   "cell_type": "markdown",
   "metadata": {},
   "source": [
    "We'll save the training data from each experiment for plotting."
   ]
  },
  {
   "cell_type": "code",
   "execution_count": null,
   "metadata": {},
   "outputs": [],
   "source": [
    "import pickle\n",
    "\n",
    "def dump_training_data(data, filename):\n",
    "    os.makedirs(os.path.dirname(filename), exist_ok=True)\n",
    "    with open(filename, mode='wb') as file:\n",
    "        pickle.dump(data, file)\n",
    "        \n",
    "def load_training_data(filename):\n",
    "    with open(filename, mode='rb') as file:\n",
    "        return pickle.load(file)"
   ]
  },
  {
   "cell_type": "markdown",
   "metadata": {},
   "source": [
    "Let's run the experiments! We'll run each configuration for a fixed number of episodes so that we can compare them.\n",
    "\n",
    "The results will be saved in a file. To re-run the experiments, delete the `training_data_filename`.\n",
    "\n",
    "Note: You can decrease the number of episodes for each experiment, or only run one experiment until your models start working."
   ]
  },
  {
   "cell_type": "code",
   "execution_count": null,
   "metadata": {},
   "outputs": [],
   "source": [
    "import math\n",
    "\n",
    "exp_max_episodes = 4000\n",
    "\n",
    "results = {}\n",
    "training_data_filename = os.path.join('results', f'part1_exp.dat')\n",
    "\n",
    "# Set to True to force re-run (careful, will delete old experiment results)\n",
    "force_run = False\n",
    "\n",
    "# Skip running if results file exists.\n",
    "if os.path.isfile(training_data_filename) and not force_run:\n",
    "    print(f'=== results file {training_data_filename} exists, skipping experiments.')\n",
    "    results = load_training_data(training_data_filename)\n",
    "    \n",
    "else:\n",
    "    for n, b, e in exp_configs():\n",
    "        print(f'=== Experiment {n}')\n",
    "        results[n] = train_pg(baseline=b, entropy=e, max_episodes=exp_max_episodes, post_batch_fn=None)\n",
    "        \n",
    "    dump_training_data(results, training_data_filename)"
   ]
  },
  {
   "cell_type": "code",
   "execution_count": null,
   "metadata": {},
   "outputs": [],
   "source": [
    "def plot_experiment_results(results, fig=None):\n",
    "    if fig is None:\n",
    "        fig, _ = plt.subplots(nrows=2, ncols=2, sharex=True, figsize=(18,12))\n",
    "    for i, plot_type in enumerate(('loss_p', 'baseline', 'loss_e', 'mean_reward')):\n",
    "        ax = fig.axes[i]\n",
    "        for exp_name, exp_res in results.items():\n",
    "            if plot_type not in exp_res:\n",
    "                continue\n",
    "            ax.plot(exp_res['episode_num'], exp_res[plot_type], label=exp_name)\n",
    "        ax.set_title(plot_type)\n",
    "        ax.set_xlabel('episode')\n",
    "        ax.legend()\n",
    "    return fig\n",
    "    \n",
    "experiments_results_fig = plot_experiment_results(results)"
   ]
  },
  {
   "cell_type": "markdown",
   "metadata": {},
   "source": [
    "You should see positive training dynamics in the graphs (reward going up).\n",
    "If you don't, use them to further update your model or hyperparams.\n",
    "\n",
    "To pass the test, you'll need to get a best total mean reward of at least 10 in the fixed number of epochs using the combined loss.\n",
    "It's possible to get much higher (over 100)."
   ]
  },
  {
   "cell_type": "code",
   "execution_count": null,
   "metadata": {},
   "outputs": [],
   "source": [
    "best_cpg_mean_reward = max(results['cpg']['mean_reward'])\n",
    "print(f'Best CPG mean reward: {best_cpg_mean_reward:.2f}')\n",
    "\n",
    "test.assertGreater(best_cpg_mean_reward, 10)"
   ]
  },
  {
   "cell_type": "markdown",
   "metadata": {},
   "source": [
    "Now let's take a look at a gameplay video of our `cpg` model after the short training!"
   ]
  },
  {
   "cell_type": "code",
   "execution_count": null,
   "metadata": {},
   "outputs": [],
   "source": [
    "hp = hw4.answers.part1_pg_hyperparams()\n",
    "p_net_cpg = hw4pg.PolicyNet.build_for_env(env, **hp)\n",
    "p_net_cpg.load_state_dict(results['cpg']['model_state'])\n",
    "\n",
    "env, n_steps, reward = hw4pg.PolicyAgent.monitor_episode(ENV_NAME, p_net_cpg)\n",
    "print(f'{n_steps} steps, total reward: {reward:.2f}')\n",
    "show_monitor_video(env)"
   ]
  },
  {
   "cell_type": "markdown",
   "metadata": {},
   "source": [
    "## Advantage Actor-Critic (AAC)\n",
    "<a id=part1_2></a>"
   ]
  },
  {
   "cell_type": "markdown",
   "metadata": {},
   "source": [
    "We have seen that the policy-gradient loss can be interpreted as a log-likelihood of the policy term\n",
    "(selecting a specific action at a specific state), weighted by the future rewards of that choice of action.\n",
    "\n",
    "However, naïvely weighting by rewards has significant drawbacks in terms of the variance of the resulting gradient.\n",
    "We addressed this by adding a simple baseline term which represented our \"expected reward\" so that we increase probability of actions\n",
    "leading to trajectories which exceed this expectation and vice-versa.\n",
    "\n",
    "In this part we'll explore a more powerful baseline, which is the idea behind the A2C method."
   ]
  },
  {
   "cell_type": "markdown",
   "metadata": {},
   "source": [
    "### The advantage function"
   ]
  },
  {
   "cell_type": "markdown",
   "metadata": {},
   "source": [
    "Recall the definition of the state-value function $v_{\\pi}(s)$ and action-value function $q_{\\pi}(s,a)$:\n",
    "\n",
    "$$\n",
    "\\begin{align}\n",
    "v_{\\pi}(s) &= \\E{g(\\tau)|s_0 = s,\\pi} \\\\\n",
    "q_{\\pi}(s,a) &= \\E{g(\\tau)|s_0 = s,a_0=a,\\pi}.\n",
    "\\end{align}\n",
    "$$\n",
    "\n",
    "Both these functions represent the value of the state $s$. However, $v_\\pi$ averages over the first action according to the policy,\n",
    "while $q_\\pi$ fixes the first action and then continues according to the policy."
   ]
  },
  {
   "cell_type": "markdown",
   "metadata": {},
   "source": [
    "Their difference is known as the **advantage function**:\n",
    "$$\n",
    "a_\\pi(s,a) = q_\\pi(s,a)-v_\\pi(s).\n",
    "$$\n",
    "\n",
    "If $a_\\pi(s,a)>0$ it means that it's better (in expectation) to take action $a$ in state $s$ compared to the average action.\n",
    "In other words, $a_\\pi(s,a)$ represents the *advantage* of using action $a$ in state $s$ compared to the others."
   ]
  },
  {
   "cell_type": "markdown",
   "metadata": {},
   "source": [
    "So far we have used an estimate for $q_\\pi$ as our weighting term for the log-policy, with a fixed baseline per batch.\n",
    "\n",
    "$$\n",
    "\\hat\\grad\\mathcal{L}_{\\text{BPG}}(\\vec{\\theta})\n",
    "=-\\frac{1}{N}\\sum_{i=1}^{N}\\sum_{t\\geq0} \\left(\\hat{q}_{i,t}-b\\right) \\grad\\log \\pi_{\\vec{\\theta}}(a_{i,t}|s_{i,t}).\n",
    "$$\n"
   ]
  },
  {
   "cell_type": "markdown",
   "metadata": {},
   "source": [
    "Now, we will use the state value as a baseline, so that an estimate of the advantage function is our weighting term:\n",
    "\n",
    "$$\n",
    "\\hat\\grad\\mathcal{L}_{\\text{AAC}}(\\vec{\\theta})\n",
    "=-\\frac{1}{N}\\sum_{i=1}^{N}\\sum_{t\\geq0} \\left(\\hat{q}_{i,t}-v_\\pi(s_t)\\right) \\grad\\log \\pi_{\\vec{\\theta}}(a_{i,t}|s_{i,t}).\n",
    "$$\n",
    "\n",
    "Intuitively, using the advantage function makes sense because it means we're weighting our policy's actions according to\n",
    "how advantageous they are compared to other possible actions."
   ]
  },
  {
   "cell_type": "markdown",
   "metadata": {},
   "source": [
    "But how will we know $v_\\pi(s)$? We'll learn it of course, using another neural network.\n",
    "This is known as actor-critic learning. We simultaneously learn the policy (actor) and the value of states (critic).\n",
    "We'll treat it as a regression task: given a state $s_t$, our state-value network will output $\\hat{v}_\\pi(s_t)$,\n",
    "an estimate of the actual unknown state-value.\n",
    "Our regression targets will be the discounted rewards, $\\hat{q}_{i,t}$ (see question 2),\n",
    "and we can use a simple MSE as the loss function,\n",
    "$$\n",
    "\\mathcal{L}_{\\text{SV}} = \\frac{1}{N}\\sum_{i=1}^{N}\\sum_{t\\geq0}\\left(\\hat{v}_\\pi(s_t) - \\hat{q}_{i,t}\\right)^2.\n",
    "$$\n"
   ]
  },
  {
   "cell_type": "markdown",
   "metadata": {},
   "source": [
    "### Implementation"
   ]
  },
  {
   "cell_type": "markdown",
   "metadata": {},
   "source": [
    "We'll build heavily on our implementation of the regular policy-gradient method, and just add a new model class and a new loss class, with a small modification to the agent."
   ]
  },
  {
   "cell_type": "markdown",
   "metadata": {},
   "source": [
    "Let's start with the model. It will accept a state, and return action scores (as before), but also the value of that state.\n",
    "You can experiment with a dual-head network that has a shared base, or implement two separate parts within the network.\n",
    "\n",
    "**TODO**:\n",
    "1. Implement the model as the `AACPolicyNet` class in the `hw4/rl_ac.py` module.\n",
    "1. Set the hyperparameters in the `part1_aac_hyperparams()` function of the `hw4.answers` module."
   ]
  },
  {
   "cell_type": "code",
   "execution_count": null,
   "metadata": {},
   "outputs": [],
   "source": [
    "import hw4.rl_ac as hw4ac\n",
    "\n",
    "hp = hw4.answers.part1_aac_hyperparams()\n",
    "pv_net = hw4ac.AACPolicyNet.build_for_env(env, device, **hp)\n",
    "pv_net"
   ]
  },
  {
   "cell_type": "markdown",
   "metadata": {},
   "source": [
    "**TODO**: Complete the implementation of the agent class, `AACPolicyAgent`, in the `hw4/rl_ac.py` module."
   ]
  },
  {
   "cell_type": "code",
   "execution_count": null,
   "metadata": {},
   "outputs": [],
   "source": [
    "agent = hw4ac.AACPolicyAgent(env, pv_net, device)\n",
    "exp = agent.step()\n",
    "\n",
    "test.assertIsInstance(exp, hw4pg.Experience)\n",
    "print(exp)"
   ]
  },
  {
   "cell_type": "markdown",
   "metadata": {},
   "source": [
    "**TODO**: Implement the AAC loss function as the class `AACPolicyGradientLoss` in the `hw4/rl_ac.py` module."
   ]
  },
  {
   "cell_type": "code",
   "execution_count": null,
   "metadata": {},
   "outputs": [],
   "source": [
    "loss_fn_aac = hw4ac.AACPolicyGradientLoss(delta=1.)\n",
    "test_state_values = torch.ones(test_action_scores.shape[0], 1)\n",
    "loss_t, _ = loss_fn_aac(test_batch, (test_action_scores, test_state_values))\n",
    "\n",
    "print('loss_t =', loss_t)\n",
    "test.assertAlmostEqual(loss_t.item(), 975.230895, delta=1e-3)"
   ]
  },
  {
   "cell_type": "markdown",
   "metadata": {},
   "source": [
    "### Experimentation"
   ]
  },
  {
   "cell_type": "markdown",
   "metadata": {},
   "source": [
    "Let's run the same experiment as before, but with the AAC method and compare the results."
   ]
  },
  {
   "cell_type": "code",
   "execution_count": null,
   "metadata": {},
   "outputs": [],
   "source": [
    "def train_aac(baseline=False, entropy=False, **train_kwargs):\n",
    "    hp = hw4.answers.part1_aac_hyperparams()\n",
    "    loss_fns = [hw4ac.AACPolicyGradientLoss(hp['delta']), hw4pg.ActionEntropyLoss(ENV_N_ACTIONS, hp['beta'])]\n",
    "    return train_rl(hw4ac.AACPolicyAgent, hw4ac.AACPolicyNet, loss_fns, hp, **train_kwargs)"
   ]
  },
  {
   "cell_type": "code",
   "execution_count": null,
   "metadata": {},
   "outputs": [],
   "source": [
    "training_data_filename = os.path.join('results', f'part1_exp_aac.dat')\n",
    "\n",
    "# Set to True to force re-run (careful, will delete old experiment results)\n",
    "force_run = False\n",
    "\n",
    "if os.path.isfile(training_data_filename) and not force_run:\n",
    "    print(f'=== results file {training_data_filename} exists, skipping experiments.')\n",
    "    results_aac = load_training_data(training_data_filename)\n",
    "    \n",
    "else:\n",
    "    print(f'=== Running AAC experiment')\n",
    "    training_data = train_aac(max_episodes=exp_max_episodes)\n",
    "    results_aac = dict(aac=training_data)\n",
    "    dump_training_data(results_aac, training_data_filename)"
   ]
  },
  {
   "cell_type": "code",
   "execution_count": null,
   "metadata": {},
   "outputs": [],
   "source": [
    "experiments_results_fig = plot_experiment_results(results)\n",
    "plot_experiment_results(results_aac, fig=experiments_results_fig);"
   ]
  },
  {
   "cell_type": "markdown",
   "metadata": {},
   "source": [
    "You should get better results with the AAC method, so this time the bar is higher (again, you should aim for a mean reward of 100+).\n",
    "Compare the graphs with combined PG method and see if they make sense."
   ]
  },
  {
   "cell_type": "code",
   "execution_count": null,
   "metadata": {},
   "outputs": [],
   "source": [
    "best_aac_mean_reward = max(results_aac['aac']['mean_reward'])\n",
    "print(f'Best AAC mean reward: {best_aac_mean_reward:.2f}')\n",
    "\n",
    "test.assertGreater(best_aac_mean_reward, 50)"
   ]
  },
  {
   "cell_type": "markdown",
   "metadata": {},
   "source": [
    "### Final model training and visualization"
   ]
  },
  {
   "cell_type": "markdown",
   "metadata": {},
   "source": [
    "Now, using your best model and hyperparams, let's train model for much longer and see the performance.\n",
    "Just for fun, we'll also visualize an episode every now and then so that we can see how well the agent is playing."
   ]
  },
  {
   "cell_type": "code",
   "execution_count": null,
   "metadata": {},
   "outputs": [],
   "source": [
    "import IPython.display\n",
    "\n",
    "CHECKPOINTS_FILE = f'checkpoints/{ENV_NAME}-ac.dat'\n",
    "CHECKPOINTS_FILE_FINAL = f'checkpoints/{ENV_NAME}-ac_final.dat'\n",
    "TARGET_REWARD = 125\n",
    "MAX_EPISODES = 15_000\n",
    "\n",
    "def post_batch_fn(batch_idx, p_net, batch, print_every=20, final=False):\n",
    "    if not final and batch_idx % print_every != 0:\n",
    "        return\n",
    "    env, n_steps, reward = hw4ac.AACPolicyAgent.monitor_episode(ENV_NAME, p_net)\n",
    "    html = show_monitor_video(env, width=\"500\")\n",
    "    IPython.display.clear_output(wait=True)\n",
    "    print(f'Monitor@#{batch_idx}: n_steps={n_steps}, total_reward={reward:.3f}, final={final}')\n",
    "    IPython.display.display_html(html)\n",
    "    \n",
    "    \n",
    "if os.path.isfile(CHECKPOINTS_FILE_FINAL):\n",
    "    print(f'=== {CHECKPOINTS_FILE_FINAL} exists, skipping training...')\n",
    "    checkpoint_data = torch.load(CHECKPOINTS_FILE_FINAL)\n",
    "    hp = hw4.answers.part1_aac_hyperparams()\n",
    "    pv_net = hw4ac.AACPolicyNet.build_for_env(env, **hp)\n",
    "    pv_net.load_state_dict(checkpoint_data['params'])\n",
    "    print(f'=== Running best model...')\n",
    "    env, n_steps, reward = hw4ac.AACPolicyAgent.monitor_episode(ENV_NAME, pv_net)\n",
    "    print(f'=== Best model ran for {n_steps} steps. Total reward: {reward:.2f}')\n",
    "    IPython.display.display_html(show_monitor_video(env))\n",
    "    best_mean_reward = checkpoint_data[\"best_mean_reward\"]\n",
    "else:\n",
    "    print(f'=== Starting training...')\n",
    "    train_data = train_aac(TARGET_REWARD, max_episodes=MAX_EPISODES,\n",
    "                           seed=None, checkpoints_file=CHECKPOINTS_FILE, post_batch_fn=post_batch_fn)\n",
    "    print(f'=== Done, ', end='')\n",
    "    best_mean_reward = train_data[\"best_mean_reward\"][-1]\n",
    "    print(f'num_episodes={train_data[\"episode_num\"][-1]}, best_mean_reward={best_mean_reward:.1f}')\n",
    "          \n",
    "test.assertGreaterEqual(best_mean_reward, TARGET_REWARD)"
   ]
  },
  {
   "cell_type": "markdown",
   "metadata": {},
   "source": [
    "## Questions\n",
    "<a id=part1_3></a>"
   ]
  },
  {
   "cell_type": "markdown",
   "metadata": {},
   "source": [
    "**TODO**: Answer the following questions. Write your answers in the appropriate variables in the module `hw4/answers.py`."
   ]
  },
  {
   "cell_type": "code",
   "execution_count": null,
   "metadata": {},
   "outputs": [],
   "source": [
    "from cs236781.answers import display_answer\n",
    "import hw4.answers"
   ]
  },
  {
   "cell_type": "markdown",
   "metadata": {},
   "source": [
    "### Question 1\n",
    "\n",
    "Explain qualitatively why subtracting a baseline in the policy-gradient helps reduce it's variance.\n",
    "Specifically, give an example where it helps."
   ]
  },
  {
   "cell_type": "code",
   "execution_count": null,
   "metadata": {},
   "outputs": [],
   "source": [
    "display_answer(hw4.answers.part1_q1)"
   ]
  },
  {
   "cell_type": "markdown",
   "metadata": {},
   "source": [
    "Imagine that we have two different trajectories in our batch. The first has a positive total reward and the second has a negative one.\n",
    "In this case, it's easy for the PG to update the policy such that the first trajectory's actions get higher probability. \n",
    "However, if we add a constant value to our reward function, for example such that the second one receives zero reward, this time the gradient will be completely different since it will not reduce the probabilities for the sends trajectory at all.\n",
    "\n",
    "Adding a baseline fixes this dependence on absolute values of the rewards, since we'll compare all rewards to some constant number.\n",
    "In the example above, subtracting a baseline will cause the gradient to be the same in both cases."
   ]
  },
  {
   "cell_type": "markdown",
   "metadata": {},
   "source": [
    "### Question 2\n",
    "\n",
    "In AAC, when using the estimated q-values as regression targets for our state-values, why do we get a valid approximation?\n",
    "Hint: how is $v_\\pi(s)$ expressed in terms of $q_\\pi(s,a)$?"
   ]
  },
  {
   "cell_type": "code",
   "execution_count": null,
   "metadata": {},
   "outputs": [],
   "source": [
    "display_answer(hw4.answers.part1_q2)"
   ]
  },
  {
   "cell_type": "markdown",
   "metadata": {},
   "source": [
    "### Question 3\n",
    "\n",
    "1. Analyze and explain the graphs you got in first experiment run.\n",
    "2. Compare the experiment graphs you got with the AAC method to the regular PG method (`cpg`)."
   ]
  },
  {
   "cell_type": "code",
   "execution_count": null,
   "metadata": {},
   "outputs": [],
   "source": [
    "display_answer(hw4.answers.part1_q3)"
   ]
  }
 ],
 "metadata": {
  "kernelspec": {
   "display_name": "Python 3",
   "language": "python",
   "name": "python3"
  },
  "language_info": {
   "codemirror_mode": {
    "name": "ipython",
    "version": 3
   },
   "file_extension": ".py",
   "mimetype": "text/x-python",
   "name": "python",
   "nbconvert_exporter": "python",
   "pygments_lexer": "ipython3",
   "version": "3.7.6"
  }
 },
 "nbformat": 4,
 "nbformat_minor": 4
}
